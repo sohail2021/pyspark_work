{
 "cells": [
  {
   "cell_type": "code",
   "execution_count": 2,
   "id": "cb1ee6e5-a5db-4b22-bd1b-98d67a07b1e9",
   "metadata": {},
   "outputs": [],
   "source": [
    "import findspark\n",
    "findspark.init()\n",
    "\n",
    "from pyspark.sql import SparkSession\n",
    "from pyspark.sql.types import StructType, StructField, StringType, IntegerType, DoubleType\n",
    "\n",
    "# initialize Spark Session\n",
    "spark = (\n",
    "    SparkSession.builder.appName(\"dfOperations\").getOrCreate()\n",
    ")"
   ]
  },
  {
   "cell_type": "code",
   "execution_count": 3,
   "id": "d14a4696-362c-4c71-acc9-2ba77fbb33ad",
   "metadata": {},
   "outputs": [],
   "source": [
    "# Emp Data & Schema\n",
    "\n",
    "emp_data = [\n",
    "    [\"001\",\"101\",\"John Doe\",\"30\",\"Male\",\"50000\",\"2015-01-01\"],\n",
    "    [\"002\",\"101\",\"Jane Smith\",\"25\",\"Female\",\"45000\",\"2016-02-15\"],\n",
    "    [\"003\",\"102\",\"Bob Brown\",\"35\",\"Male\",\"55000\",\"2014-05-01\"],\n",
    "    [\"004\",\"102\",\"Alice Lee\",\"28\",\"Female\",\"48000\",\"2017-09-30\"],\n",
    "    [\"005\",\"103\",\"Jack Chan\",\"40\",\"Male\",\"60000\",\"2013-04-01\"],\n",
    "    [\"006\",\"103\",\"Jill Wong\",\"32\",\"Female\",\"52000\",\"2018-07-01\"],\n",
    "    [\"007\",\"101\",\"James Johnson\",\"42\",\"Male\",\"70000\",\"2012-03-15\"],\n",
    "    [\"008\",\"102\",\"Kate Kim\",\"29\",\"Female\",\"51000\",\"2019-10-01\"],\n",
    "    [\"009\",\"103\",\"Tom Tan\",\"33\",\"Male\",\"58000\",\"2016-06-01\"],\n",
    "    [\"010\",\"104\",\"Lisa Lee\",\"27\",\"Female\",\"47000\",\"2018-08-01\"],\n",
    "    [\"011\",\"104\",\"David Park\",\"38\",\"Male\",\"65000\",\"2015-11-01\"],\n",
    "    [\"012\",\"105\",\"Susan Chen\",\"31\",\"Female\",\"54000\",\"2017-02-15\"],\n",
    "    [\"013\",\"106\",\"Brian Kim\",\"45\",\"Male\",\"75000\",\"2011-07-01\"],\n",
    "    [\"014\",\"107\",\"Emily Lee\",\"26\",\"Female\",\"46000\",\"2019-01-01\"],\n",
    "    [\"015\",\"106\",\"Michael Lee\",\"37\",\"Male\",\"63000\",\"2014-09-30\"],\n",
    "    [\"016\",\"107\",\"Kelly Zhang\",\"30\",\"Female\",\"49000\",\"2018-04-01\"],\n",
    "    [\"017\",\"105\",\"George Wang\",\"34\",\"Male\",\"57000\",\"2016-03-15\"],\n",
    "    [\"018\",\"104\",\"Nancy Liu\",\"29\",\"Female\",\"50000\",\"2017-06-01\"],\n",
    "    [\"019\",\"103\",\"Steven Chen\",\"36\",\"Male\",\"62000\",\"2015-08-01\"],\n",
    "    [\"020\",\"102\",\"Grace Kim\",\"32\",\"Female\",\"53000\",\"2018-11-01\"]\n",
    "]\n",
    "\n",
    "emp_schema = [\"emp_id\", \"dept_id\", \"emp_name\", \"age\", \"gender\", \"salary\", \"hire_date\"]"
   ]
  },
  {
   "cell_type": "code",
   "execution_count": 4,
   "id": "97e35a20-25d5-40f2-8768-dce9bf259b8c",
   "metadata": {},
   "outputs": [],
   "source": [
    "emp_df = spark.createDataFrame(data=emp_data, schema=emp_schema)"
   ]
  },
  {
   "cell_type": "code",
   "execution_count": 7,
   "id": "e5e6506f-190e-4a0a-969f-1abd46b59daf",
   "metadata": {},
   "outputs": [
    {
     "name": "stdout",
     "output_type": "stream",
     "text": [
      "+------+-------+-------------+---+------+------+----------+\n",
      "|emp_id|dept_id|     emp_name|age|gender|salary| hire_date|\n",
      "+------+-------+-------------+---+------+------+----------+\n",
      "|   001|    101|     John Doe| 30|  Male| 50000|2015-01-01|\n",
      "|   002|    101|   Jane Smith| 25|Female| 45000|2016-02-15|\n",
      "|   003|    102|    Bob Brown| 35|  Male| 55000|2014-05-01|\n",
      "|   004|    102|    Alice Lee| 28|Female| 48000|2017-09-30|\n",
      "|   005|    103|    Jack Chan| 40|  Male| 60000|2013-04-01|\n",
      "|   006|    103|    Jill Wong| 32|Female| 52000|2018-07-01|\n",
      "|   007|    101|James Johnson| 42|  Male| 70000|2012-03-15|\n",
      "|   008|    102|     Kate Kim| 29|Female| 51000|2019-10-01|\n",
      "|   009|    103|      Tom Tan| 33|  Male| 58000|2016-06-01|\n",
      "|   010|    104|     Lisa Lee| 27|Female| 47000|2018-08-01|\n",
      "|   011|    104|   David Park| 38|  Male| 65000|2015-11-01|\n",
      "|   012|    105|   Susan Chen| 31|Female| 54000|2017-02-15|\n",
      "|   013|    106|    Brian Kim| 45|  Male| 75000|2011-07-01|\n",
      "|   014|    107|    Emily Lee| 26|Female| 46000|2019-01-01|\n",
      "|   015|    106|  Michael Lee| 37|  Male| 63000|2014-09-30|\n",
      "|   016|    107|  Kelly Zhang| 30|Female| 49000|2018-04-01|\n",
      "|   017|    105|  George Wang| 34|  Male| 57000|2016-03-15|\n",
      "|   018|    104|    Nancy Liu| 29|Female| 50000|2017-06-01|\n",
      "|   019|    103|  Steven Chen| 36|  Male| 62000|2015-08-01|\n",
      "|   020|    102|    Grace Kim| 32|Female| 53000|2018-11-01|\n",
      "+------+-------+-------------+---+------+------+----------+\n",
      "\n"
     ]
    }
   ],
   "source": [
    "emp_df.show()"
   ]
  },
  {
   "cell_type": "code",
   "execution_count": 8,
   "id": "ffe62946-4318-4e7f-a117-567c3633cb82",
   "metadata": {},
   "outputs": [
    {
     "name": "stdout",
     "output_type": "stream",
     "text": [
      "root\n",
      " |-- emp_id: string (nullable = true)\n",
      " |-- dept_id: string (nullable = true)\n",
      " |-- emp_name: string (nullable = true)\n",
      " |-- age: string (nullable = true)\n",
      " |-- gender: string (nullable = true)\n",
      " |-- salary: string (nullable = true)\n",
      " |-- hire_date: string (nullable = true)\n",
      "\n"
     ]
    }
   ],
   "source": [
    "emp_df.printSchema()"
   ]
  },
  {
   "cell_type": "code",
   "execution_count": 10,
   "id": "cdfc4c9a-8c32-440c-ad93-e8f42bc49dc5",
   "metadata": {},
   "outputs": [
    {
     "data": {
      "text/plain": [
       "StructType([StructField('emp_id', StringType(), True), StructField('dept_id', StringType(), True), StructField('emp_name', StringType(), True), StructField('age', StringType(), True), StructField('gender', StringType(), True), StructField('salary', StringType(), True), StructField('hire_date', StringType(), True)])"
      ]
     },
     "execution_count": 10,
     "metadata": {},
     "output_type": "execute_result"
    }
   ],
   "source": [
    "emp_df.schema"
   ]
  },
  {
   "cell_type": "code",
   "execution_count": 13,
   "id": "8a4e6373-ddca-4627-96cc-521d025b33ee",
   "metadata": {},
   "outputs": [
    {
     "data": {
      "text/plain": [
       "Column<'salary'>"
      ]
     },
     "execution_count": 13,
     "metadata": {},
     "output_type": "execute_result"
    }
   ],
   "source": [
    "# columns and expression\n",
    "from pyspark.sql.functions import col, expr\n",
    "\n",
    "# call the column name\n",
    "# emp_df.salary    # method 1\n",
    "emp_df[\"salary\"]   # method 2"
   ]
  },
  {
   "cell_type": "code",
   "execution_count": 17,
   "id": "7077f755-c773-4e66-9f8a-5e52427a167d",
   "metadata": {},
   "outputs": [],
   "source": [
    "# select multiple columns from a df\n",
    "emp_filtered = emp_df.select(col(\"emp_id\"), expr(\"emp_name\"), emp_df.age, emp_df[\"salary\"])"
   ]
  },
  {
   "cell_type": "code",
   "execution_count": 18,
   "id": "aa870ae3-9bce-4339-9370-f3697b0ff586",
   "metadata": {},
   "outputs": [
    {
     "name": "stdout",
     "output_type": "stream",
     "text": [
      "+------+-------------+---+------+\n",
      "|emp_id|     emp_name|age|salary|\n",
      "+------+-------------+---+------+\n",
      "|   001|     John Doe| 30| 50000|\n",
      "|   002|   Jane Smith| 25| 45000|\n",
      "|   003|    Bob Brown| 35| 55000|\n",
      "|   004|    Alice Lee| 28| 48000|\n",
      "|   005|    Jack Chan| 40| 60000|\n",
      "|   006|    Jill Wong| 32| 52000|\n",
      "|   007|James Johnson| 42| 70000|\n",
      "|   008|     Kate Kim| 29| 51000|\n",
      "|   009|      Tom Tan| 33| 58000|\n",
      "|   010|     Lisa Lee| 27| 47000|\n",
      "|   011|   David Park| 38| 65000|\n",
      "|   012|   Susan Chen| 31| 54000|\n",
      "|   013|    Brian Kim| 45| 75000|\n",
      "|   014|    Emily Lee| 26| 46000|\n",
      "|   015|  Michael Lee| 37| 63000|\n",
      "|   016|  Kelly Zhang| 30| 49000|\n",
      "|   017|  George Wang| 34| 57000|\n",
      "|   018|    Nancy Liu| 29| 50000|\n",
      "|   019|  Steven Chen| 36| 62000|\n",
      "|   020|    Grace Kim| 32| 53000|\n",
      "+------+-------------+---+------+\n",
      "\n"
     ]
    }
   ],
   "source": [
    "emp_filtered.show()"
   ]
  },
  {
   "cell_type": "code",
   "execution_count": 19,
   "id": "54ce7dd2-00ba-4290-bbe3-d76a66355f78",
   "metadata": {},
   "outputs": [],
   "source": [
    "# using expr for select\n",
    "# select emp_id as employee_id, name, cast(age as int) as age, salary from emp_filtered\n",
    "emp_casted = emp_filtered.select(expr(\"emp_id as employee_id\"), emp_filtered.emp_name, expr(\"cast(age as int) as age\"), emp_filtered.salary)"
   ]
  },
  {
   "cell_type": "code",
   "execution_count": 25,
   "id": "e860fac0-5440-4f4b-be09-418097a80bf6",
   "metadata": {},
   "outputs": [],
   "source": [
    "# method 2 for selecting columns, selectExpr\n",
    "emp_casted_1 = emp_filtered.selectExpr(\"emp_id as employee_id\", \"emp_name as name\", \"cast(age as int) as age\", \"salary\")"
   ]
  },
  {
   "cell_type": "code",
   "execution_count": 26,
   "id": "b1e13080-3548-433c-891c-4f61ae8280d8",
   "metadata": {},
   "outputs": [
    {
     "name": "stdout",
     "output_type": "stream",
     "text": [
      "+-----------+-------------+---+------+\n",
      "|employee_id|         name|age|salary|\n",
      "+-----------+-------------+---+------+\n",
      "|        001|     John Doe| 30| 50000|\n",
      "|        002|   Jane Smith| 25| 45000|\n",
      "|        003|    Bob Brown| 35| 55000|\n",
      "|        004|    Alice Lee| 28| 48000|\n",
      "|        005|    Jack Chan| 40| 60000|\n",
      "|        006|    Jill Wong| 32| 52000|\n",
      "|        007|James Johnson| 42| 70000|\n",
      "|        008|     Kate Kim| 29| 51000|\n",
      "|        009|      Tom Tan| 33| 58000|\n",
      "|        010|     Lisa Lee| 27| 47000|\n",
      "|        011|   David Park| 38| 65000|\n",
      "|        012|   Susan Chen| 31| 54000|\n",
      "|        013|    Brian Kim| 45| 75000|\n",
      "|        014|    Emily Lee| 26| 46000|\n",
      "|        015|  Michael Lee| 37| 63000|\n",
      "|        016|  Kelly Zhang| 30| 49000|\n",
      "|        017|  George Wang| 34| 57000|\n",
      "|        018|    Nancy Liu| 29| 50000|\n",
      "|        019|  Steven Chen| 36| 62000|\n",
      "|        020|    Grace Kim| 32| 53000|\n",
      "+-----------+-------------+---+------+\n",
      "\n"
     ]
    }
   ],
   "source": [
    "emp_casted_1.show()"
   ]
  },
  {
   "cell_type": "code",
   "execution_count": 20,
   "id": "8ef6e3a0-6c83-45f6-a411-af1ae8ea1745",
   "metadata": {},
   "outputs": [
    {
     "name": "stdout",
     "output_type": "stream",
     "text": [
      "+-----------+-------------+---+------+\n",
      "|employee_id|     emp_name|age|salary|\n",
      "+-----------+-------------+---+------+\n",
      "|        001|     John Doe| 30| 50000|\n",
      "|        002|   Jane Smith| 25| 45000|\n",
      "|        003|    Bob Brown| 35| 55000|\n",
      "|        004|    Alice Lee| 28| 48000|\n",
      "|        005|    Jack Chan| 40| 60000|\n",
      "|        006|    Jill Wong| 32| 52000|\n",
      "|        007|James Johnson| 42| 70000|\n",
      "|        008|     Kate Kim| 29| 51000|\n",
      "|        009|      Tom Tan| 33| 58000|\n",
      "|        010|     Lisa Lee| 27| 47000|\n",
      "|        011|   David Park| 38| 65000|\n",
      "|        012|   Susan Chen| 31| 54000|\n",
      "|        013|    Brian Kim| 45| 75000|\n",
      "|        014|    Emily Lee| 26| 46000|\n",
      "|        015|  Michael Lee| 37| 63000|\n",
      "|        016|  Kelly Zhang| 30| 49000|\n",
      "|        017|  George Wang| 34| 57000|\n",
      "|        018|    Nancy Liu| 29| 50000|\n",
      "|        019|  Steven Chen| 36| 62000|\n",
      "|        020|    Grace Kim| 32| 53000|\n",
      "+-----------+-------------+---+------+\n",
      "\n"
     ]
    }
   ],
   "source": [
    "emp_casted.show()"
   ]
  },
  {
   "cell_type": "code",
   "execution_count": 21,
   "id": "41618fec-e07f-4e81-8b1d-d134b6fa99ef",
   "metadata": {},
   "outputs": [
    {
     "name": "stdout",
     "output_type": "stream",
     "text": [
      "root\n",
      " |-- employee_id: string (nullable = true)\n",
      " |-- emp_name: string (nullable = true)\n",
      " |-- age: integer (nullable = true)\n",
      " |-- salary: string (nullable = true)\n",
      "\n"
     ]
    }
   ],
   "source": [
    "# print schema to verify the 'age' column as int\n",
    "emp_casted.printSchema()"
   ]
  },
  {
   "cell_type": "code",
   "execution_count": 27,
   "id": "44f3aa12-3e98-438b-bba6-527c8f9257cc",
   "metadata": {},
   "outputs": [],
   "source": [
    "# filter employee based on age>30\n",
    "emp_final = emp_casted.select(\"employee_id\", \"emp_name\", \"age\", \"salary\").where(\"age>30\")"
   ]
  },
  {
   "cell_type": "code",
   "execution_count": 28,
   "id": "76dcae1d-7d0e-4a22-9caa-f250c066d300",
   "metadata": {},
   "outputs": [
    {
     "name": "stdout",
     "output_type": "stream",
     "text": [
      "+-----------+-------------+---+------+\n",
      "|employee_id|     emp_name|age|salary|\n",
      "+-----------+-------------+---+------+\n",
      "|        003|    Bob Brown| 35| 55000|\n",
      "|        005|    Jack Chan| 40| 60000|\n",
      "|        006|    Jill Wong| 32| 52000|\n",
      "|        007|James Johnson| 42| 70000|\n",
      "|        009|      Tom Tan| 33| 58000|\n",
      "|        011|   David Park| 38| 65000|\n",
      "|        012|   Susan Chen| 31| 54000|\n",
      "|        013|    Brian Kim| 45| 75000|\n",
      "|        015|  Michael Lee| 37| 63000|\n",
      "|        017|  George Wang| 34| 57000|\n",
      "|        019|  Steven Chen| 36| 62000|\n",
      "|        020|    Grace Kim| 32| 53000|\n",
      "+-----------+-------------+---+------+\n",
      "\n"
     ]
    }
   ],
   "source": [
    "emp_final.show()"
   ]
  },
  {
   "cell_type": "code",
   "execution_count": 29,
   "id": "f63291dd-8fbb-4f37-9766-dfdb62cb2665",
   "metadata": {},
   "outputs": [],
   "source": [
    "# write the data back as csv\n",
    "emp_final.write.format(\"csv\").save(\"data/output/2/emp.csv\")"
   ]
  },
  {
   "cell_type": "code",
   "execution_count": 30,
   "id": "c39f237b-87bb-4a36-993e-63f0538d5a2b",
   "metadata": {},
   "outputs": [],
   "source": [
    "spark.stop()"
   ]
  },
  {
   "cell_type": "code",
   "execution_count": null,
   "id": "92b7215f-dbb7-42c6-9f3f-b808783d493e",
   "metadata": {},
   "outputs": [],
   "source": []
  }
 ],
 "metadata": {
  "kernelspec": {
   "display_name": "Python 3 (ipykernel)",
   "language": "python",
   "name": "python3"
  },
  "language_info": {
   "codemirror_mode": {
    "name": "ipython",
    "version": 3
   },
   "file_extension": ".py",
   "mimetype": "text/x-python",
   "name": "python",
   "nbconvert_exporter": "python",
   "pygments_lexer": "ipython3",
   "version": "3.11.4"
  }
 },
 "nbformat": 4,
 "nbformat_minor": 5
}
