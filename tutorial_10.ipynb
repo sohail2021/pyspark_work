{
 "cells": [
  {
   "cell_type": "code",
   "execution_count": 1,
   "id": "03cf5b81-9043-4d92-a08f-c3c84404ce7e",
   "metadata": {},
   "outputs": [],
   "source": [
    "import findspark\n",
    "findspark.init()\n",
    "\n",
    "from pyspark.sql import SparkSession\n",
    "\n",
    "spark = (\n",
    "    SparkSession.builder.appName(\"Unique data and Window Functions\").getOrCreate()\n",
    ")"
   ]
  },
  {
   "cell_type": "code",
   "execution_count": 2,
   "id": "8f14b5e8-2aef-4d3d-bb6b-86703373e4a3",
   "metadata": {},
   "outputs": [],
   "source": [
    "# Emp Data & Schema\n",
    "\n",
    "emp_data = [\n",
    "    [\"001\",\"101\",\"John Doe\",\"30\",\"Male\",\"50000\",\"2015-01-01\"],\n",
    "    [\"002\",\"101\",\"Jane Smith\",\"25\",\"Female\",\"45000\",\"2016-02-15\"],\n",
    "    [\"003\",\"102\",\"Bob Brown\",\"35\",\"Male\",\"55000\",\"2014-05-01\"],\n",
    "    [\"004\",\"102\",\"Alice Lee\",\"28\",\"Female\",\"48000\",\"2017-09-30\"],\n",
    "    [\"005\",\"103\",\"Jack Chan\",\"40\",\"Male\",\"60000\",\"2013-04-01\"],\n",
    "    [\"006\",\"103\",\"Jill Wong\",\"32\",\"Female\",\"52000\",\"2018-07-01\"],\n",
    "    [\"007\",\"101\",\"James Johnson\",\"42\",\"Male\",\"70000\",\"2012-03-15\"],\n",
    "    [\"008\",\"102\",\"Kate Kim\",\"29\",\"Female\",\"51000\",\"2019-10-01\"],\n",
    "    [\"009\",\"103\",\"Tom Tan\",\"33\",\"Male\",\"58000\",\"2016-06-01\"],\n",
    "    [\"010\",\"104\",\"Lisa Lee\",\"27\",\"Female\",\"47000\",\"2018-08-01\"],\n",
    "    [\"011\",\"104\",\"David Park\",\"38\",\"Male\",\"65000\",\"2015-11-01\"],\n",
    "    [\"012\",\"105\",\"Susan Chen\",\"31\",\"Female\",\"54000\",\"2017-02-15\"],\n",
    "    [\"013\",\"106\",\"Brian Kim\",\"45\",\"Male\",\"75000\",\"2011-07-01\"],\n",
    "    [\"014\",\"107\",\"Emily Lee\",\"26\",\"Female\",\"46000\",\"2019-01-01\"],\n",
    "    [\"015\",\"106\",\"Michael Lee\",\"37\",\"Male\",\"63000\",\"2014-09-30\"],\n",
    "    [\"016\",\"107\",\"Kelly Zhang\",\"30\",\"Female\",\"49000\",\"2018-04-01\"],\n",
    "    [\"017\",\"105\",\"George Wang\",\"34\",\"Male\",\"57000\",\"2016-03-15\"],\n",
    "    [\"018\",\"104\",\"Nancy Liu\",\"29\",\"Female\",\"50000\",\"2017-06-01\"],\n",
    "    [\"019\",\"103\",\"Steven Chen\",\"36\",\"\",\"62000\",\"2015-08-01\"],\n",
    "    [\"020\",\"102\",\"Grace Kim\",\"32\",\"Female\",\"53000\",\"2018-11-01\"]\n",
    "]\n",
    "\n",
    "emp_schema = [\"emp_id\", \"dept_id\", \"emp_name\", \"age\", \"gender\", \"salary\", \"hire_date\"]"
   ]
  },
  {
   "cell_type": "code",
   "execution_count": 3,
   "id": "e9eb2be9-0e46-4dbe-bb79-fa63d9e76dd1",
   "metadata": {},
   "outputs": [],
   "source": [
    "# Create emp DataFrame\n",
    "emp_df = spark.createDataFrame(data=emp_data, schema=emp_schema)"
   ]
  },
  {
   "cell_type": "code",
   "execution_count": 5,
   "id": "b0fb2018-5da1-48ca-84f8-d090ba7b0d78",
   "metadata": {},
   "outputs": [
    {
     "name": "stdout",
     "output_type": "stream",
     "text": [
      "+------+-------+-------------+---+------+------+----------+\n",
      "|emp_id|dept_id|     emp_name|age|gender|salary| hire_date|\n",
      "+------+-------+-------------+---+------+------+----------+\n",
      "|   001|    101|     John Doe| 30|  Male| 50000|2015-01-01|\n",
      "|   002|    101|   Jane Smith| 25|Female| 45000|2016-02-15|\n",
      "|   003|    102|    Bob Brown| 35|  Male| 55000|2014-05-01|\n",
      "|   004|    102|    Alice Lee| 28|Female| 48000|2017-09-30|\n",
      "|   005|    103|    Jack Chan| 40|  Male| 60000|2013-04-01|\n",
      "|   006|    103|    Jill Wong| 32|Female| 52000|2018-07-01|\n",
      "|   007|    101|James Johnson| 42|  Male| 70000|2012-03-15|\n",
      "|   008|    102|     Kate Kim| 29|Female| 51000|2019-10-01|\n",
      "|   009|    103|      Tom Tan| 33|  Male| 58000|2016-06-01|\n",
      "|   010|    104|     Lisa Lee| 27|Female| 47000|2018-08-01|\n",
      "|   011|    104|   David Park| 38|  Male| 65000|2015-11-01|\n",
      "|   012|    105|   Susan Chen| 31|Female| 54000|2017-02-15|\n",
      "|   013|    106|    Brian Kim| 45|  Male| 75000|2011-07-01|\n",
      "|   014|    107|    Emily Lee| 26|Female| 46000|2019-01-01|\n",
      "|   015|    106|  Michael Lee| 37|  Male| 63000|2014-09-30|\n",
      "|   016|    107|  Kelly Zhang| 30|Female| 49000|2018-04-01|\n",
      "|   017|    105|  George Wang| 34|  Male| 57000|2016-03-15|\n",
      "|   018|    104|    Nancy Liu| 29|Female| 50000|2017-06-01|\n",
      "|   019|    103|  Steven Chen| 36|      | 62000|2015-08-01|\n",
      "|   020|    102|    Grace Kim| 32|Female| 53000|2018-11-01|\n",
      "+------+-------+-------------+---+------+------+----------+\n",
      "\n"
     ]
    }
   ],
   "source": [
    "# Show emp dataframe (ACTION)\n",
    "emp_df.show()"
   ]
  },
  {
   "cell_type": "code",
   "execution_count": 6,
   "id": "fca3b38a-b67a-404a-9310-e8dcd8fdd040",
   "metadata": {},
   "outputs": [
    {
     "name": "stdout",
     "output_type": "stream",
     "text": [
      "root\n",
      " |-- emp_id: string (nullable = true)\n",
      " |-- dept_id: string (nullable = true)\n",
      " |-- emp_name: string (nullable = true)\n",
      " |-- age: string (nullable = true)\n",
      " |-- gender: string (nullable = true)\n",
      " |-- salary: string (nullable = true)\n",
      " |-- hire_date: string (nullable = true)\n",
      "\n"
     ]
    }
   ],
   "source": [
    "emp_df.printSchema()"
   ]
  },
  {
   "cell_type": "code",
   "execution_count": 7,
   "id": "8b54e421-0bff-46d2-b49b-5479bc0adea8",
   "metadata": {},
   "outputs": [],
   "source": [
    "# Get unique data\n",
    "# select distinct emp.* from emp\n",
    "emp_unique = emp_df.distinct()"
   ]
  },
  {
   "cell_type": "code",
   "execution_count": 8,
   "id": "7f99927d-e49f-48a0-a760-90e60a3673d0",
   "metadata": {},
   "outputs": [
    {
     "name": "stdout",
     "output_type": "stream",
     "text": [
      "+------+-------+-------------+---+------+------+----------+\n",
      "|emp_id|dept_id|     emp_name|age|gender|salary| hire_date|\n",
      "+------+-------+-------------+---+------+------+----------+\n",
      "|   005|    103|    Jack Chan| 40|  Male| 60000|2013-04-01|\n",
      "|   001|    101|     John Doe| 30|  Male| 50000|2015-01-01|\n",
      "|   002|    101|   Jane Smith| 25|Female| 45000|2016-02-15|\n",
      "|   004|    102|    Alice Lee| 28|Female| 48000|2017-09-30|\n",
      "|   003|    102|    Bob Brown| 35|  Male| 55000|2014-05-01|\n",
      "|   010|    104|     Lisa Lee| 27|Female| 47000|2018-08-01|\n",
      "|   007|    101|James Johnson| 42|  Male| 70000|2012-03-15|\n",
      "|   008|    102|     Kate Kim| 29|Female| 51000|2019-10-01|\n",
      "|   009|    103|      Tom Tan| 33|  Male| 58000|2016-06-01|\n",
      "|   006|    103|    Jill Wong| 32|Female| 52000|2018-07-01|\n",
      "|   014|    107|    Emily Lee| 26|Female| 46000|2019-01-01|\n",
      "|   011|    104|   David Park| 38|  Male| 65000|2015-11-01|\n",
      "|   013|    106|    Brian Kim| 45|  Male| 75000|2011-07-01|\n",
      "|   012|    105|   Susan Chen| 31|Female| 54000|2017-02-15|\n",
      "|   015|    106|  Michael Lee| 37|  Male| 63000|2014-09-30|\n",
      "|   019|    103|  Steven Chen| 36|      | 62000|2015-08-01|\n",
      "|   017|    105|  George Wang| 34|  Male| 57000|2016-03-15|\n",
      "|   018|    104|    Nancy Liu| 29|Female| 50000|2017-06-01|\n",
      "|   020|    102|    Grace Kim| 32|Female| 53000|2018-11-01|\n",
      "|   016|    107|  Kelly Zhang| 30|Female| 49000|2018-04-01|\n",
      "+------+-------+-------------+---+------+------+----------+\n",
      "\n"
     ]
    }
   ],
   "source": [
    "emp_unique.show()"
   ]
  },
  {
   "cell_type": "code",
   "execution_count": 10,
   "id": "05e0d4c4-7f84-4b2b-8ccb-593dbcb5dfbe",
   "metadata": {},
   "outputs": [],
   "source": [
    "# Unique of department_ids\n",
    "# select distinct department_id from emp\n",
    "emp_dept_id = emp_df.select(\"dept_id\").distinct()"
   ]
  },
  {
   "cell_type": "code",
   "execution_count": 11,
   "id": "ffba6eba-6779-4cea-b59a-5f6230f59e8a",
   "metadata": {},
   "outputs": [
    {
     "name": "stdout",
     "output_type": "stream",
     "text": [
      "+-------+\n",
      "|dept_id|\n",
      "+-------+\n",
      "|    101|\n",
      "|    102|\n",
      "|    103|\n",
      "|    104|\n",
      "|    107|\n",
      "|    106|\n",
      "|    105|\n",
      "+-------+\n",
      "\n"
     ]
    }
   ],
   "source": [
    "emp_dept_id.show()"
   ]
  },
  {
   "cell_type": "code",
   "execution_count": 12,
   "id": "517334cc-170f-4b15-b442-db79a408ca03",
   "metadata": {},
   "outputs": [],
   "source": [
    "# Window Functions\n",
    "# select *, max(salary) over(partition by department_id order by salary desc) as max_salary from emp_unique\n",
    "from pyspark.sql.window import Window\n",
    "from pyspark.sql.functions import max, col, desc\n",
    "\n",
    "window_spec = Window.partitionBy(col(\"dept_id\")).orderBy(col(\"salary\").desc())\n",
    "max_func = max(col(\"salary\")).over(window_spec)\n",
    "\n",
    "emp_1 = emp_df.withColumn(\"max_salary\", max_func)"
   ]
  },
  {
   "cell_type": "code",
   "execution_count": 13,
   "id": "c8ba9594-4245-46c0-9287-0199e56d27b0",
   "metadata": {},
   "outputs": [
    {
     "name": "stdout",
     "output_type": "stream",
     "text": [
      "+------+-------+-------------+---+------+------+----------+----------+\n",
      "|emp_id|dept_id|     emp_name|age|gender|salary| hire_date|max_salary|\n",
      "+------+-------+-------------+---+------+------+----------+----------+\n",
      "|   007|    101|James Johnson| 42|  Male| 70000|2012-03-15|     70000|\n",
      "|   001|    101|     John Doe| 30|  Male| 50000|2015-01-01|     70000|\n",
      "|   002|    101|   Jane Smith| 25|Female| 45000|2016-02-15|     70000|\n",
      "|   003|    102|    Bob Brown| 35|  Male| 55000|2014-05-01|     55000|\n",
      "|   020|    102|    Grace Kim| 32|Female| 53000|2018-11-01|     55000|\n",
      "|   008|    102|     Kate Kim| 29|Female| 51000|2019-10-01|     55000|\n",
      "|   004|    102|    Alice Lee| 28|Female| 48000|2017-09-30|     55000|\n",
      "|   019|    103|  Steven Chen| 36|      | 62000|2015-08-01|     62000|\n",
      "|   005|    103|    Jack Chan| 40|  Male| 60000|2013-04-01|     62000|\n",
      "|   009|    103|      Tom Tan| 33|  Male| 58000|2016-06-01|     62000|\n",
      "|   006|    103|    Jill Wong| 32|Female| 52000|2018-07-01|     62000|\n",
      "|   011|    104|   David Park| 38|  Male| 65000|2015-11-01|     65000|\n",
      "|   018|    104|    Nancy Liu| 29|Female| 50000|2017-06-01|     65000|\n",
      "|   010|    104|     Lisa Lee| 27|Female| 47000|2018-08-01|     65000|\n",
      "|   017|    105|  George Wang| 34|  Male| 57000|2016-03-15|     57000|\n",
      "|   012|    105|   Susan Chen| 31|Female| 54000|2017-02-15|     57000|\n",
      "|   013|    106|    Brian Kim| 45|  Male| 75000|2011-07-01|     75000|\n",
      "|   015|    106|  Michael Lee| 37|  Male| 63000|2014-09-30|     75000|\n",
      "|   016|    107|  Kelly Zhang| 30|Female| 49000|2018-04-01|     49000|\n",
      "|   014|    107|    Emily Lee| 26|Female| 46000|2019-01-01|     49000|\n",
      "+------+-------+-------------+---+------+------+----------+----------+\n",
      "\n"
     ]
    }
   ],
   "source": [
    "emp_1.show()"
   ]
  },
  {
   "cell_type": "code",
   "execution_count": 14,
   "id": "2be33750-98c9-46e8-ab6e-36fbeb993f16",
   "metadata": {},
   "outputs": [],
   "source": [
    "# Window Functions - 2nd highest salary of each department\n",
    "# select *, row_number() over(partition by department_id order by salary desc) as rn from emp_unique where rn = 2\n",
    "from pyspark.sql.window import Window\n",
    "from pyspark.sql.functions import row_number, desc, col\n",
    "\n",
    "window_spec = Window.partitionBy(col(\"dept_id\")).orderBy(col(\"salary\").desc())\n",
    "rn = row_number().over(window_spec)\n",
    "\n",
    "emp_2 = emp_df.withColumn(\"rn\", rn).where(\"rn = 2\")"
   ]
  },
  {
   "cell_type": "code",
   "execution_count": 15,
   "id": "2755919d-9d76-4302-8bc6-ae8c479c4ee3",
   "metadata": {},
   "outputs": [
    {
     "name": "stdout",
     "output_type": "stream",
     "text": [
      "+------+-------+-----------+---+------+------+----------+---+\n",
      "|emp_id|dept_id|   emp_name|age|gender|salary| hire_date| rn|\n",
      "+------+-------+-----------+---+------+------+----------+---+\n",
      "|   001|    101|   John Doe| 30|  Male| 50000|2015-01-01|  2|\n",
      "|   020|    102|  Grace Kim| 32|Female| 53000|2018-11-01|  2|\n",
      "|   005|    103|  Jack Chan| 40|  Male| 60000|2013-04-01|  2|\n",
      "|   018|    104|  Nancy Liu| 29|Female| 50000|2017-06-01|  2|\n",
      "|   012|    105| Susan Chen| 31|Female| 54000|2017-02-15|  2|\n",
      "|   015|    106|Michael Lee| 37|  Male| 63000|2014-09-30|  2|\n",
      "|   014|    107|  Emily Lee| 26|Female| 46000|2019-01-01|  2|\n",
      "+------+-------+-----------+---+------+------+----------+---+\n",
      "\n"
     ]
    }
   ],
   "source": [
    "emp_2.show()"
   ]
  },
  {
   "cell_type": "code",
   "execution_count": 17,
   "id": "f6a0b8c4-56a6-45dd-83e4-146b7657b9b1",
   "metadata": {},
   "outputs": [],
   "source": [
    "# Window function using expr\n",
    "# select *, row_number() over(partition by department_id order by salary desc) as rn from emp_unique where rn = 2\n",
    "from pyspark.sql.functions import expr\n",
    "\n",
    "emp_3 = emp_df.withColumn(\"rn\", expr(\"row_number() over(partition by dept_id order by salary desc)\")).where(\"rn = 2\")"
   ]
  },
  {
   "cell_type": "code",
   "execution_count": 18,
   "id": "1b7e370c-bdcd-4142-b562-6176e7001b3e",
   "metadata": {},
   "outputs": [
    {
     "name": "stdout",
     "output_type": "stream",
     "text": [
      "+------+-------+-----------+---+------+------+----------+---+\n",
      "|emp_id|dept_id|   emp_name|age|gender|salary| hire_date| rn|\n",
      "+------+-------+-----------+---+------+------+----------+---+\n",
      "|   001|    101|   John Doe| 30|  Male| 50000|2015-01-01|  2|\n",
      "|   020|    102|  Grace Kim| 32|Female| 53000|2018-11-01|  2|\n",
      "|   005|    103|  Jack Chan| 40|  Male| 60000|2013-04-01|  2|\n",
      "|   018|    104|  Nancy Liu| 29|Female| 50000|2017-06-01|  2|\n",
      "|   012|    105| Susan Chen| 31|Female| 54000|2017-02-15|  2|\n",
      "|   015|    106|Michael Lee| 37|  Male| 63000|2014-09-30|  2|\n",
      "|   014|    107|  Emily Lee| 26|Female| 46000|2019-01-01|  2|\n",
      "+------+-------+-----------+---+------+------+----------+---+\n",
      "\n"
     ]
    }
   ],
   "source": [
    "emp_3.show()"
   ]
  },
  {
   "cell_type": "code",
   "execution_count": 19,
   "id": "147caa16-f3ca-4b2a-9163-e21b411c0773",
   "metadata": {},
   "outputs": [],
   "source": [
    "spark.stop()"
   ]
  },
  {
   "cell_type": "code",
   "execution_count": null,
   "id": "a29a2a88-9cc8-4d40-a657-c38f17f466be",
   "metadata": {},
   "outputs": [],
   "source": []
  }
 ],
 "metadata": {
  "kernelspec": {
   "display_name": "Python 3 (ipykernel)",
   "language": "python",
   "name": "python3"
  },
  "language_info": {
   "codemirror_mode": {
    "name": "ipython",
    "version": 3
   },
   "file_extension": ".py",
   "mimetype": "text/x-python",
   "name": "python",
   "nbconvert_exporter": "python",
   "pygments_lexer": "ipython3",
   "version": "3.11.4"
  }
 },
 "nbformat": 4,
 "nbformat_minor": 5
}
