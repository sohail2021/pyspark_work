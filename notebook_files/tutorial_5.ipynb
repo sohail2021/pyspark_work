{
 "cells": [
  {
   "cell_type": "code",
   "execution_count": 1,
   "id": "a0a544df-6a8c-4be7-a17d-1402d0fe2931",
   "metadata": {},
   "outputs": [],
   "source": [
    "import findspark\n",
    "findspark.init()\n",
    "\n",
    "from pyspark.sql import SparkSession\n",
    "from pyspark.sql.types import StructType, StructField, StringType, IntegerType, DoubleType\n",
    "\n",
    "# 1. Initialize Spark Session\n",
    "# You can give your app a meaningful name\n",
    "spark = SparkSession.builder \\\n",
    "    .appName(\"DataFrameOperations\") \\\n",
    "    .getOrCreate()"
   ]
  },
  {
   "cell_type": "code",
   "execution_count": 3,
   "id": "b08bde3e-a05f-47b5-8f64-7343e24fbef1",
   "metadata": {},
   "outputs": [],
   "source": [
    "emp_data = [\n",
    "    [\"001\",\"101\",\"John Doe\",\"30\",\"Male\",\"50000\",\"2015-01-01\"],\n",
    "    [\"002\",\"101\",\"Jane Smith\",\"25\",\"Female\",\"45000\",\"2016-02-15\"],\n",
    "    [\"003\",\"102\",\"Bob Brown\",\"35\",\"Male\",\"55000\",\"2014-05-01\"],\n",
    "    [\"004\",\"102\",\"Alice Lee\",\"28\",\"Female\",\"48000\",\"2017-09-30\"],\n",
    "    [\"005\",\"103\",\"Jack Chan\",\"40\",\"Male\",\"60000\",\"2013-04-01\"],\n",
    "    [\"006\",\"103\",\"Jill Wong\",\"32\",\"Female\",\"52000\",\"2018-07-01\"],\n",
    "    [\"007\",\"101\",\"James Johnson\",\"42\",\"Male\",\"70000\",\"2012-03-15\"],\n",
    "    [\"008\",\"102\",\"Kate Kim\",\"29\",\"Female\",\"51000\",\"2019-10-01\"],\n",
    "    [\"009\",\"103\",\"Tom Tan\",\"33\",\"Male\",\"58000\",\"2016-06-01\"],\n",
    "    [\"010\",\"104\",\"Lisa Lee\",\"27\",\"Female\",\"47000\",\"2018-08-01\"],\n",
    "    [\"011\",\"104\",\"David Park\",\"38\",\"Male\",\"65000\",\"2015-11-01\"],\n",
    "    [\"012\",\"105\",\"Susan Chen\",\"31\",\"Female\",\"54000\",\"2017-02-15\"],\n",
    "    [\"013\",\"106\",\"Brian Kim\",\"45\",\"Male\",\"75000\",\"2011-07-01\"],\n",
    "    [\"014\",\"107\",\"Emily Lee\",\"26\",\"Female\",\"46000\",\"2019-01-01\"],\n",
    "    [\"015\",\"106\",\"Michael Lee\",\"37\",\"Male\",\"63000\",\"2014-09-30\"],\n",
    "    [\"016\",\"107\",\"Kelly Zhang\",\"30\",\"Female\",\"49000\",\"2018-04-01\"],\n",
    "    [\"017\",\"105\",\"George Wang\",\"34\",\"Male\",\"57000\",\"2016-03-15\"],\n",
    "    [\"018\",\"104\",\"Nancy Liu\",\"29\",\"Female\",\"50000\",\"2017-06-01\"],\n",
    "    [\"019\",\"103\",\"Steven Chen\",\"36\",\"Male\",\"62000\",\"2015-08-01\"],\n",
    "    [\"020\",\"102\",\"Grace Kim\",\"32\",\"Female\",\"53000\",\"2018-11-01\"]\n",
    "]\n",
    "\n",
    "emp_schema = [\"emp_id\", \"dept_id\", \"emp_name\", \"age\", \"gender\", \"salary\", \"hire_date\"]"
   ]
  },
  {
   "cell_type": "code",
   "execution_count": 4,
   "id": "8727fac0-7235-43a1-843a-e700ea6f9b9d",
   "metadata": {},
   "outputs": [],
   "source": [
    "emp_df = spark.createDataFrame(data=emp_data, schema=emp_schema)"
   ]
  },
  {
   "cell_type": "code",
   "execution_count": 6,
   "id": "3f26bfd5-1037-4f63-8f5a-752ec060f311",
   "metadata": {},
   "outputs": [
    {
     "name": "stdout",
     "output_type": "stream",
     "text": [
      "+------+-------+-------------+---+------+------+----------+\n",
      "|emp_id|dept_id|     emp_name|age|gender|salary| hire_date|\n",
      "+------+-------+-------------+---+------+------+----------+\n",
      "|   001|    101|     John Doe| 30|  Male| 50000|2015-01-01|\n",
      "|   002|    101|   Jane Smith| 25|Female| 45000|2016-02-15|\n",
      "|   003|    102|    Bob Brown| 35|  Male| 55000|2014-05-01|\n",
      "|   004|    102|    Alice Lee| 28|Female| 48000|2017-09-30|\n",
      "|   005|    103|    Jack Chan| 40|  Male| 60000|2013-04-01|\n",
      "|   006|    103|    Jill Wong| 32|Female| 52000|2018-07-01|\n",
      "|   007|    101|James Johnson| 42|  Male| 70000|2012-03-15|\n",
      "|   008|    102|     Kate Kim| 29|Female| 51000|2019-10-01|\n",
      "|   009|    103|      Tom Tan| 33|  Male| 58000|2016-06-01|\n",
      "|   010|    104|     Lisa Lee| 27|Female| 47000|2018-08-01|\n",
      "|   011|    104|   David Park| 38|  Male| 65000|2015-11-01|\n",
      "|   012|    105|   Susan Chen| 31|Female| 54000|2017-02-15|\n",
      "|   013|    106|    Brian Kim| 45|  Male| 75000|2011-07-01|\n",
      "|   014|    107|    Emily Lee| 26|Female| 46000|2019-01-01|\n",
      "|   015|    106|  Michael Lee| 37|  Male| 63000|2014-09-30|\n",
      "|   016|    107|  Kelly Zhang| 30|Female| 49000|2018-04-01|\n",
      "|   017|    105|  George Wang| 34|  Male| 57000|2016-03-15|\n",
      "|   018|    104|    Nancy Liu| 29|Female| 50000|2017-06-01|\n",
      "|   019|    103|  Steven Chen| 36|  Male| 62000|2015-08-01|\n",
      "|   020|    102|    Grace Kim| 32|Female| 53000|2018-11-01|\n",
      "+------+-------+-------------+---+------+------+----------+\n",
      "\n"
     ]
    }
   ],
   "source": [
    "emp_df.show()"
   ]
  },
  {
   "cell_type": "code",
   "execution_count": 8,
   "id": "9775f302-8989-426e-b178-521c83572a18",
   "metadata": {},
   "outputs": [],
   "source": [
    "emp_final = emp_df.where(\"salary > 50000\")"
   ]
  },
  {
   "cell_type": "code",
   "execution_count": 9,
   "id": "90946777-70af-417d-a213-09cc8673ef1d",
   "metadata": {},
   "outputs": [],
   "source": [
    "emp_final.write.format(\"csv\").save(\"data/output/1/emp.csv\")"
   ]
  },
  {
   "cell_type": "code",
   "execution_count": null,
   "id": "284659df-a7da-4495-b383-c2169a7c19b4",
   "metadata": {},
   "outputs": [],
   "source": []
  }
 ],
 "metadata": {
  "kernelspec": {
   "display_name": "Python 3 (ipykernel)",
   "language": "python",
   "name": "python3"
  },
  "language_info": {
   "codemirror_mode": {
    "name": "ipython",
    "version": 3
   },
   "file_extension": ".py",
   "mimetype": "text/x-python",
   "name": "python",
   "nbconvert_exporter": "python",
   "pygments_lexer": "ipython3",
   "version": "3.11.4"
  }
 },
 "nbformat": 4,
 "nbformat_minor": 5
}
