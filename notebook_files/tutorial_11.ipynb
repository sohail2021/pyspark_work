{
 "cells": [
  {
   "cell_type": "code",
   "execution_count": 1,
   "id": "046ae328-a274-4b81-9755-823dac6a4900",
   "metadata": {},
   "outputs": [],
   "source": [
    "import findspark\n",
    "findspark.init()\n",
    "\n",
    "from pyspark.sql import SparkSession\n",
    "\n",
    "spark = (\n",
    "    SparkSession.builder.appName(\"Joins and Data Partitions\").getOrCreate()\n",
    ")"
   ]
  },
  {
   "cell_type": "code",
   "execution_count": 2,
   "id": "4afca0c4-bd03-4e15-9536-27dc24bba1ab",
   "metadata": {},
   "outputs": [],
   "source": [
    "# Emp Data & Schema\n",
    "\n",
    "emp_data = [\n",
    "    [\"001\",\"101\",\"John Doe\",\"30\",\"Male\",\"50000\",\"2015-01-01\"],\n",
    "    [\"002\",\"101\",\"Jane Smith\",\"25\",\"Female\",\"45000\",\"2016-02-15\"],\n",
    "    [\"003\",\"102\",\"Bob Brown\",\"35\",\"Male\",\"55000\",\"2014-05-01\"],\n",
    "    [\"004\",\"102\",\"Alice Lee\",\"28\",\"Female\",\"48000\",\"2017-09-30\"],\n",
    "    [\"005\",\"103\",\"Jack Chan\",\"40\",\"Male\",\"60000\",\"2013-04-01\"],\n",
    "    [\"006\",\"103\",\"Jill Wong\",\"32\",\"Female\",\"52000\",\"2018-07-01\"],\n",
    "    [\"007\",\"101\",\"James Johnson\",\"42\",\"Male\",\"70000\",\"2012-03-15\"],\n",
    "    [\"008\",\"102\",\"Kate Kim\",\"29\",\"Female\",\"51000\",\"2019-10-01\"],\n",
    "    [\"009\",\"103\",\"Tom Tan\",\"33\",\"Male\",\"58000\",\"2016-06-01\"],\n",
    "    [\"010\",\"104\",\"Lisa Lee\",\"27\",\"Female\",\"47000\",\"2018-08-01\"],\n",
    "    [\"011\",\"104\",\"David Park\",\"38\",\"Male\",\"65000\",\"2015-11-01\"],\n",
    "    [\"012\",\"105\",\"Susan Chen\",\"31\",\"Female\",\"54000\",\"2017-02-15\"],\n",
    "    [\"013\",\"106\",\"Brian Kim\",\"45\",\"Male\",\"75000\",\"2011-07-01\"],\n",
    "    [\"014\",\"107\",\"Emily Lee\",\"26\",\"Female\",\"46000\",\"2019-01-01\"],\n",
    "    [\"015\",\"106\",\"Michael Lee\",\"37\",\"Male\",\"63000\",\"2014-09-30\"],\n",
    "    [\"016\",\"107\",\"Kelly Zhang\",\"30\",\"Female\",\"49000\",\"2018-04-01\"],\n",
    "    [\"017\",\"105\",\"George Wang\",\"34\",\"Male\",\"57000\",\"2016-03-15\"],\n",
    "    [\"018\",\"104\",\"Nancy Liu\",\"29\",\"\",\"50000\",\"2017-06-01\"],\n",
    "    [\"019\",\"103\",\"Steven Chen\",\"36\",\"Male\",\"62000\",\"2015-08-01\"],\n",
    "    [\"020\",\"102\",\"Grace Kim\",\"32\",\"Female\",\"53000\",\"2018-11-01\"]\n",
    "]\n",
    "\n",
    "# emp_schema = \"employee_id string, department_id string, name string, age string, gender string, salary string, hire_date string\"\n",
    "emp_schema = [\"emp_id\", \"dept_id\", \"name\", \"age\", \"gender\", \"salary\", \"hire_date\"]\n",
    "\n",
    "dept_data = [\n",
    "    [\"101\", \"Sales\", \"NYC\", \"US\", \"1000000\"],\n",
    "    [\"102\", \"Marketing\", \"LA\", \"US\", \"900000\"],\n",
    "    [\"103\", \"Finance\", \"London\", \"UK\", \"1200000\"],\n",
    "    [\"104\", \"Engineering\", \"Beijing\", \"China\", \"1500000\"],\n",
    "    [\"105\", \"Human Resources\", \"Tokyo\", \"Japan\", \"800000\"],\n",
    "    [\"106\", \"Research and Development\", \"Perth\", \"Australia\", \"1100000\"],\n",
    "    [\"107\", \"Customer Service\", \"Sydney\", \"Australia\", \"950000\"]\n",
    "]\n",
    "\n",
    "# dept_schema = \"department_id string, department_name string, city string, country string, budget string\"\n",
    "dept_schema = [\"dept_id\", \"dept_name\", \"city\", \"country\", \"budget\"]"
   ]
  },
  {
   "cell_type": "code",
   "execution_count": 3,
   "id": "ef772b4f-4945-4f33-a567-bf98885f4db2",
   "metadata": {},
   "outputs": [],
   "source": [
    "# Create emp & dept DataFrame\n",
    "emp = spark.createDataFrame(data=emp_data, schema=emp_schema)\n",
    "dept = spark.createDataFrame(data=dept_data, schema=dept_schema)"
   ]
  },
  {
   "cell_type": "code",
   "execution_count": 4,
   "id": "2051e138-7ddb-405d-841b-c3d23910f5aa",
   "metadata": {},
   "outputs": [
    {
     "name": "stdout",
     "output_type": "stream",
     "text": [
      "+------+-------+-------------+---+------+------+----------+\n",
      "|emp_id|dept_id|         name|age|gender|salary| hire_date|\n",
      "+------+-------+-------------+---+------+------+----------+\n",
      "|   001|    101|     John Doe| 30|  Male| 50000|2015-01-01|\n",
      "|   002|    101|   Jane Smith| 25|Female| 45000|2016-02-15|\n",
      "|   003|    102|    Bob Brown| 35|  Male| 55000|2014-05-01|\n",
      "|   004|    102|    Alice Lee| 28|Female| 48000|2017-09-30|\n",
      "|   005|    103|    Jack Chan| 40|  Male| 60000|2013-04-01|\n",
      "|   006|    103|    Jill Wong| 32|Female| 52000|2018-07-01|\n",
      "|   007|    101|James Johnson| 42|  Male| 70000|2012-03-15|\n",
      "|   008|    102|     Kate Kim| 29|Female| 51000|2019-10-01|\n",
      "|   009|    103|      Tom Tan| 33|  Male| 58000|2016-06-01|\n",
      "|   010|    104|     Lisa Lee| 27|Female| 47000|2018-08-01|\n",
      "|   011|    104|   David Park| 38|  Male| 65000|2015-11-01|\n",
      "|   012|    105|   Susan Chen| 31|Female| 54000|2017-02-15|\n",
      "|   013|    106|    Brian Kim| 45|  Male| 75000|2011-07-01|\n",
      "|   014|    107|    Emily Lee| 26|Female| 46000|2019-01-01|\n",
      "|   015|    106|  Michael Lee| 37|  Male| 63000|2014-09-30|\n",
      "|   016|    107|  Kelly Zhang| 30|Female| 49000|2018-04-01|\n",
      "|   017|    105|  George Wang| 34|  Male| 57000|2016-03-15|\n",
      "|   018|    104|    Nancy Liu| 29|      | 50000|2017-06-01|\n",
      "|   019|    103|  Steven Chen| 36|  Male| 62000|2015-08-01|\n",
      "|   020|    102|    Grace Kim| 32|Female| 53000|2018-11-01|\n",
      "+------+-------+-------------+---+------+------+----------+\n",
      "\n",
      "+-------+--------------------+-------+---------+-------+\n",
      "|dept_id|           dept_name|   city|  country| budget|\n",
      "+-------+--------------------+-------+---------+-------+\n",
      "|    101|               Sales|    NYC|       US|1000000|\n",
      "|    102|           Marketing|     LA|       US| 900000|\n",
      "|    103|             Finance| London|       UK|1200000|\n",
      "|    104|         Engineering|Beijing|    China|1500000|\n",
      "|    105|     Human Resources|  Tokyo|    Japan| 800000|\n",
      "|    106|Research and Deve...|  Perth|Australia|1100000|\n",
      "|    107|    Customer Service| Sydney|Australia| 950000|\n",
      "+-------+--------------------+-------+---------+-------+\n",
      "\n"
     ]
    }
   ],
   "source": [
    "emp.show()\n",
    "dept.show()"
   ]
  },
  {
   "cell_type": "code",
   "execution_count": 5,
   "id": "ea2fa6e8-4569-423e-9199-40420256a491",
   "metadata": {},
   "outputs": [
    {
     "name": "stdout",
     "output_type": "stream",
     "text": [
      "root\n",
      " |-- emp_id: string (nullable = true)\n",
      " |-- dept_id: string (nullable = true)\n",
      " |-- name: string (nullable = true)\n",
      " |-- age: string (nullable = true)\n",
      " |-- gender: string (nullable = true)\n",
      " |-- salary: string (nullable = true)\n",
      " |-- hire_date: string (nullable = true)\n",
      "\n",
      "root\n",
      " |-- dept_id: string (nullable = true)\n",
      " |-- dept_name: string (nullable = true)\n",
      " |-- city: string (nullable = true)\n",
      " |-- country: string (nullable = true)\n",
      " |-- budget: string (nullable = true)\n",
      "\n"
     ]
    }
   ],
   "source": [
    "# Print Schema\n",
    "emp.printSchema()\n",
    "dept.printSchema()"
   ]
  },
  {
   "cell_type": "code",
   "execution_count": 6,
   "id": "b282746b-ad11-4698-8d1b-732a8921a77c",
   "metadata": {},
   "outputs": [
    {
     "data": {
      "text/plain": [
       "4"
      ]
     },
     "execution_count": 6,
     "metadata": {},
     "output_type": "execute_result"
    }
   ],
   "source": [
    "# get number of partitions for emp dataframe\n",
    "emp.rdd.getNumPartitions()"
   ]
  },
  {
   "cell_type": "code",
   "execution_count": 7,
   "id": "62695c9a-0349-4305-bb27-201a47e6f77c",
   "metadata": {},
   "outputs": [
    {
     "data": {
      "text/plain": [
       "4"
      ]
     },
     "execution_count": 7,
     "metadata": {},
     "output_type": "execute_result"
    }
   ],
   "source": [
    "# get number of partitions for dept dataframe\n",
    "dept.rdd.getNumPartitions()"
   ]
  },
  {
   "cell_type": "code",
   "execution_count": 19,
   "id": "d4994ab5-cfc7-4d3f-8dac-6d3be1dcaa2d",
   "metadata": {},
   "outputs": [],
   "source": [
    "# Repartition of data using repartition & coalesce\n",
    "emp_partitioned = emp.repartition(8)  # default was 4 as the number of vCPU or cores of your host machine.\n",
    "dept_partitioned = dept.coalesce(3)  # coalesce with only decrease the number of partition from defautl value."
   ]
  },
  {
   "cell_type": "code",
   "execution_count": 20,
   "id": "3941c23f-4871-4d87-a4c7-64df1517a533",
   "metadata": {},
   "outputs": [
    {
     "data": {
      "text/plain": [
       "8"
      ]
     },
     "execution_count": 20,
     "metadata": {},
     "output_type": "execute_result"
    }
   ],
   "source": [
    "emp_partitioned.rdd.getNumPartitions()"
   ]
  },
  {
   "cell_type": "code",
   "execution_count": 21,
   "id": "fb728fb8-a17d-423c-9d51-bfe85045c2d5",
   "metadata": {},
   "outputs": [
    {
     "data": {
      "text/plain": [
       "3"
      ]
     },
     "execution_count": 21,
     "metadata": {},
     "output_type": "execute_result"
    }
   ],
   "source": [
    "dept_partitioned.rdd.getNumPartitions()"
   ]
  },
  {
   "cell_type": "code",
   "execution_count": 22,
   "id": "d54b71e1-eec3-4148-b6c5-204494d0fc32",
   "metadata": {},
   "outputs": [],
   "source": [
    "# Repartition of data using repartition and based on column name\n",
    "emp_partitioned = emp.repartition(6, \"dept_id\")"
   ]
  },
  {
   "cell_type": "code",
   "execution_count": 23,
   "id": "44cd6bd2-9290-42f2-8c17-41063f5d02b7",
   "metadata": {},
   "outputs": [
    {
     "data": {
      "text/plain": [
       "6"
      ]
     },
     "execution_count": 23,
     "metadata": {},
     "output_type": "execute_result"
    }
   ],
   "source": [
    "emp_partitioned.rdd.getNumPartitions()"
   ]
  },
  {
   "cell_type": "code",
   "execution_count": 27,
   "id": "5341a847-bb49-4bd9-a631-4779766a73bb",
   "metadata": {},
   "outputs": [],
   "source": [
    "# Find the partition info for partitions and reparition\n",
    "from pyspark.sql.functions import spark_partition_id\n",
    "\n",
    "emp_1 = emp.withColumn(\"partition_num\", spark_partition_id())"
   ]
  },
  {
   "cell_type": "code",
   "execution_count": 28,
   "id": "3817d780-d8ea-439a-9d6a-948cbad16a6a",
   "metadata": {},
   "outputs": [
    {
     "name": "stdout",
     "output_type": "stream",
     "text": [
      "+------+-------+-------------+---+------+------+----------+-------------+\n",
      "|emp_id|dept_id|         name|age|gender|salary| hire_date|partition_num|\n",
      "+------+-------+-------------+---+------+------+----------+-------------+\n",
      "|   001|    101|     John Doe| 30|  Male| 50000|2015-01-01|            0|\n",
      "|   002|    101|   Jane Smith| 25|Female| 45000|2016-02-15|            0|\n",
      "|   003|    102|    Bob Brown| 35|  Male| 55000|2014-05-01|            0|\n",
      "|   004|    102|    Alice Lee| 28|Female| 48000|2017-09-30|            0|\n",
      "|   005|    103|    Jack Chan| 40|  Male| 60000|2013-04-01|            0|\n",
      "|   006|    103|    Jill Wong| 32|Female| 52000|2018-07-01|            1|\n",
      "|   007|    101|James Johnson| 42|  Male| 70000|2012-03-15|            1|\n",
      "|   008|    102|     Kate Kim| 29|Female| 51000|2019-10-01|            1|\n",
      "|   009|    103|      Tom Tan| 33|  Male| 58000|2016-06-01|            1|\n",
      "|   010|    104|     Lisa Lee| 27|Female| 47000|2018-08-01|            1|\n",
      "|   011|    104|   David Park| 38|  Male| 65000|2015-11-01|            2|\n",
      "|   012|    105|   Susan Chen| 31|Female| 54000|2017-02-15|            2|\n",
      "|   013|    106|    Brian Kim| 45|  Male| 75000|2011-07-01|            2|\n",
      "|   014|    107|    Emily Lee| 26|Female| 46000|2019-01-01|            2|\n",
      "|   015|    106|  Michael Lee| 37|  Male| 63000|2014-09-30|            2|\n",
      "|   016|    107|  Kelly Zhang| 30|Female| 49000|2018-04-01|            3|\n",
      "|   017|    105|  George Wang| 34|  Male| 57000|2016-03-15|            3|\n",
      "|   018|    104|    Nancy Liu| 29|      | 50000|2017-06-01|            3|\n",
      "|   019|    103|  Steven Chen| 36|  Male| 62000|2015-08-01|            3|\n",
      "|   020|    102|    Grace Kim| 32|Female| 53000|2018-11-01|            3|\n",
      "+------+-------+-------------+---+------+------+----------+-------------+\n",
      "\n"
     ]
    }
   ],
   "source": [
    "emp_1.show()"
   ]
  },
  {
   "cell_type": "code",
   "execution_count": 31,
   "id": "5b41fdad-24ce-4c23-ba6f-41c30bc5309a",
   "metadata": {},
   "outputs": [],
   "source": [
    "# Find the partition info for partitions and reparition\n",
    "from pyspark.sql.functions import spark_partition_id\n",
    "\n",
    "emp_1 = emp.repartition(4, \"dept_id\").withColumn(\"partition_num\", spark_partition_id())  # partition based on dept_id column. this will bring all the dept ids under same partition"
   ]
  },
  {
   "cell_type": "code",
   "execution_count": 32,
   "id": "abc43694-d00c-4298-bc48-0a20b01fd29b",
   "metadata": {},
   "outputs": [
    {
     "name": "stdout",
     "output_type": "stream",
     "text": [
      "+------+-------+-------------+---+------+------+----------+-------------+\n",
      "|emp_id|dept_id|         name|age|gender|salary| hire_date|partition_num|\n",
      "+------+-------+-------------+---+------+------+----------+-------------+\n",
      "|   003|    102|    Bob Brown| 35|  Male| 55000|2014-05-01|            0|\n",
      "|   004|    102|    Alice Lee| 28|Female| 48000|2017-09-30|            0|\n",
      "|   008|    102|     Kate Kim| 29|Female| 51000|2019-10-01|            0|\n",
      "|   014|    107|    Emily Lee| 26|Female| 46000|2019-01-01|            0|\n",
      "|   016|    107|  Kelly Zhang| 30|Female| 49000|2018-04-01|            0|\n",
      "|   020|    102|    Grace Kim| 32|Female| 53000|2018-11-01|            0|\n",
      "|   012|    105|   Susan Chen| 31|Female| 54000|2017-02-15|            1|\n",
      "|   017|    105|  George Wang| 34|  Male| 57000|2016-03-15|            1|\n",
      "|   010|    104|     Lisa Lee| 27|Female| 47000|2018-08-01|            2|\n",
      "|   011|    104|   David Park| 38|  Male| 65000|2015-11-01|            2|\n",
      "|   013|    106|    Brian Kim| 45|  Male| 75000|2011-07-01|            2|\n",
      "|   015|    106|  Michael Lee| 37|  Male| 63000|2014-09-30|            2|\n",
      "|   018|    104|    Nancy Liu| 29|      | 50000|2017-06-01|            2|\n",
      "|   001|    101|     John Doe| 30|  Male| 50000|2015-01-01|            3|\n",
      "|   002|    101|   Jane Smith| 25|Female| 45000|2016-02-15|            3|\n",
      "|   005|    103|    Jack Chan| 40|  Male| 60000|2013-04-01|            3|\n",
      "|   006|    103|    Jill Wong| 32|Female| 52000|2018-07-01|            3|\n",
      "|   007|    101|James Johnson| 42|  Male| 70000|2012-03-15|            3|\n",
      "|   009|    103|      Tom Tan| 33|  Male| 58000|2016-06-01|            3|\n",
      "|   019|    103|  Steven Chen| 36|  Male| 62000|2015-08-01|            3|\n",
      "+------+-------+-------------+---+------+------+----------+-------------+\n",
      "\n"
     ]
    }
   ],
   "source": [
    "emp_1.show()"
   ]
  },
  {
   "cell_type": "code",
   "execution_count": 33,
   "id": "38979a51-3709-44d7-a16c-0432db1c1327",
   "metadata": {},
   "outputs": [],
   "source": [
    "# INNER JOIN datasets\n",
    "# select e.emp_name, d.department_name, d.department_id, e.salary \n",
    "# from emp e inner join dept d on emp.department_id = dept.department_id\n",
    "\n",
    "df_joined = emp.alias(\"e\").join(dept.alias(\"d\"), how=\"inner\", on=emp.dept_id==dept.dept_id)"
   ]
  },
  {
   "cell_type": "code",
   "execution_count": 34,
   "id": "0341a138-a67c-455d-b502-74f7187513aa",
   "metadata": {},
   "outputs": [
    {
     "name": "stdout",
     "output_type": "stream",
     "text": [
      "+-------------+--------------------+-------+------+\n",
      "|         name|           dept_name|dept_id|salary|\n",
      "+-------------+--------------------+-------+------+\n",
      "|     John Doe|               Sales|    101| 50000|\n",
      "|   Jane Smith|               Sales|    101| 45000|\n",
      "|James Johnson|               Sales|    101| 70000|\n",
      "|    Bob Brown|           Marketing|    102| 55000|\n",
      "|    Alice Lee|           Marketing|    102| 48000|\n",
      "|     Kate Kim|           Marketing|    102| 51000|\n",
      "|    Grace Kim|           Marketing|    102| 53000|\n",
      "|    Jack Chan|             Finance|    103| 60000|\n",
      "|    Jill Wong|             Finance|    103| 52000|\n",
      "|      Tom Tan|             Finance|    103| 58000|\n",
      "|  Steven Chen|             Finance|    103| 62000|\n",
      "|     Lisa Lee|         Engineering|    104| 47000|\n",
      "|   David Park|         Engineering|    104| 65000|\n",
      "|    Nancy Liu|         Engineering|    104| 50000|\n",
      "|   Susan Chen|     Human Resources|    105| 54000|\n",
      "|  George Wang|     Human Resources|    105| 57000|\n",
      "|    Brian Kim|Research and Deve...|    106| 75000|\n",
      "|  Michael Lee|Research and Deve...|    106| 63000|\n",
      "|    Emily Lee|    Customer Service|    107| 46000|\n",
      "|  Kelly Zhang|    Customer Service|    107| 49000|\n",
      "+-------------+--------------------+-------+------+\n",
      "\n"
     ]
    }
   ],
   "source": [
    "df_joined.select(\"e.name\", \"d.dept_name\", \"d.dept_id\", \"e.salary\").show()"
   ]
  },
  {
   "cell_type": "code",
   "execution_count": 35,
   "id": "086b05f1-2731-4124-9ae6-9efc533c5949",
   "metadata": {},
   "outputs": [],
   "source": [
    "# LEFT OUTER JOIN datasets\n",
    "# select e.emp_name, d.department_name, d.department_id, e.salary \n",
    "# from emp e left outer join dept d on emp.department_id = dept.department_id\n",
    "\n",
    "df_joined = emp.alias(\"e\").join(dept.alias(\"d\"), how=\"left_outer\", on=emp.dept_id==dept.dept_id)"
   ]
  },
  {
   "cell_type": "code",
   "execution_count": 37,
   "id": "9aeceaef-d6c1-4853-836c-106448910c02",
   "metadata": {},
   "outputs": [
    {
     "name": "stdout",
     "output_type": "stream",
     "text": [
      "+-------------+--------------------+-------+------+\n",
      "|         name|           dept_name|dept_id|salary|\n",
      "+-------------+--------------------+-------+------+\n",
      "|     John Doe|               Sales|    101| 50000|\n",
      "|   Jane Smith|               Sales|    101| 45000|\n",
      "|    Bob Brown|           Marketing|    102| 55000|\n",
      "|    Alice Lee|           Marketing|    102| 48000|\n",
      "|    Jack Chan|             Finance|    103| 60000|\n",
      "|James Johnson|               Sales|    101| 70000|\n",
      "|     Lisa Lee|         Engineering|    104| 47000|\n",
      "|     Kate Kim|           Marketing|    102| 51000|\n",
      "|    Jill Wong|             Finance|    103| 52000|\n",
      "|      Tom Tan|             Finance|    103| 58000|\n",
      "|    Emily Lee|    Customer Service|    107| 46000|\n",
      "|   David Park|         Engineering|    104| 65000|\n",
      "|    Brian Kim|Research and Deve...|    106| 75000|\n",
      "|  Michael Lee|Research and Deve...|    106| 63000|\n",
      "|   Susan Chen|     Human Resources|    105| 54000|\n",
      "|  Kelly Zhang|    Customer Service|    107| 49000|\n",
      "|    Nancy Liu|         Engineering|    104| 50000|\n",
      "|    Grace Kim|           Marketing|    102| 53000|\n",
      "|  Steven Chen|             Finance|    103| 62000|\n",
      "|  George Wang|     Human Resources|    105| 57000|\n",
      "+-------------+--------------------+-------+------+\n",
      "\n"
     ]
    }
   ],
   "source": [
    "df_joined.select(\"e.name\", \"d.dept_name\", \"d.dept_id\", \"e.salary\").show()"
   ]
  },
  {
   "cell_type": "code",
   "execution_count": 46,
   "id": "ca731573-6154-447e-bb61-64004a4dfc42",
   "metadata": {},
   "outputs": [],
   "source": [
    "# Bonus TIP\n",
    "# Joins with cascading conditions\n",
    "# Join with Department_id and only for departments 101 or 102\n",
    "# Join with not null/null conditions\n",
    "\n",
    "df_final = emp.join(dept, how=\"left_outer\", \n",
    "                   on=(emp.dept_id == dept.dept_id) & ((emp.dept_id == \"101\") | (emp.dept_id == \"102\")) \n",
    "                    & (emp.dept_id.isNotNull())\n",
    "                   )"
   ]
  },
  {
   "cell_type": "code",
   "execution_count": 47,
   "id": "519f95d8-550d-4703-ba85-9c46264bbe61",
   "metadata": {},
   "outputs": [
    {
     "name": "stdout",
     "output_type": "stream",
     "text": [
      "+------+-------+-------------+---+------+------+----------+-------+---------+----+-------+-------+\n",
      "|emp_id|dept_id|         name|age|gender|salary| hire_date|dept_id|dept_name|city|country| budget|\n",
      "+------+-------+-------------+---+------+------+----------+-------+---------+----+-------+-------+\n",
      "|   001|    101|     John Doe| 30|  Male| 50000|2015-01-01|    101|    Sales| NYC|     US|1000000|\n",
      "|   002|    101|   Jane Smith| 25|Female| 45000|2016-02-15|    101|    Sales| NYC|     US|1000000|\n",
      "|   003|    102|    Bob Brown| 35|  Male| 55000|2014-05-01|    102|Marketing|  LA|     US| 900000|\n",
      "|   004|    102|    Alice Lee| 28|Female| 48000|2017-09-30|    102|Marketing|  LA|     US| 900000|\n",
      "|   005|    103|    Jack Chan| 40|  Male| 60000|2013-04-01|   NULL|     NULL|NULL|   NULL|   NULL|\n",
      "|   007|    101|James Johnson| 42|  Male| 70000|2012-03-15|    101|    Sales| NYC|     US|1000000|\n",
      "|   010|    104|     Lisa Lee| 27|Female| 47000|2018-08-01|   NULL|     NULL|NULL|   NULL|   NULL|\n",
      "|   008|    102|     Kate Kim| 29|Female| 51000|2019-10-01|    102|Marketing|  LA|     US| 900000|\n",
      "|   006|    103|    Jill Wong| 32|Female| 52000|2018-07-01|   NULL|     NULL|NULL|   NULL|   NULL|\n",
      "|   009|    103|      Tom Tan| 33|  Male| 58000|2016-06-01|   NULL|     NULL|NULL|   NULL|   NULL|\n",
      "|   014|    107|    Emily Lee| 26|Female| 46000|2019-01-01|   NULL|     NULL|NULL|   NULL|   NULL|\n",
      "|   011|    104|   David Park| 38|  Male| 65000|2015-11-01|   NULL|     NULL|NULL|   NULL|   NULL|\n",
      "|   013|    106|    Brian Kim| 45|  Male| 75000|2011-07-01|   NULL|     NULL|NULL|   NULL|   NULL|\n",
      "|   015|    106|  Michael Lee| 37|  Male| 63000|2014-09-30|   NULL|     NULL|NULL|   NULL|   NULL|\n",
      "|   012|    105|   Susan Chen| 31|Female| 54000|2017-02-15|   NULL|     NULL|NULL|   NULL|   NULL|\n",
      "|   016|    107|  Kelly Zhang| 30|Female| 49000|2018-04-01|   NULL|     NULL|NULL|   NULL|   NULL|\n",
      "|   018|    104|    Nancy Liu| 29|      | 50000|2017-06-01|   NULL|     NULL|NULL|   NULL|   NULL|\n",
      "|   020|    102|    Grace Kim| 32|Female| 53000|2018-11-01|    102|Marketing|  LA|     US| 900000|\n",
      "|   019|    103|  Steven Chen| 36|  Male| 62000|2015-08-01|   NULL|     NULL|NULL|   NULL|   NULL|\n",
      "|   017|    105|  George Wang| 34|  Male| 57000|2016-03-15|   NULL|     NULL|NULL|   NULL|   NULL|\n",
      "+------+-------+-------------+---+------+------+----------+-------+---------+----+-------+-------+\n",
      "\n"
     ]
    }
   ],
   "source": [
    "df_final.show()"
   ]
  },
  {
   "cell_type": "code",
   "execution_count": 48,
   "id": "ef1eae27-ee62-4a32-9176-7c56a60902a1",
   "metadata": {},
   "outputs": [],
   "source": [
    "spark.stop()"
   ]
  },
  {
   "cell_type": "code",
   "execution_count": null,
   "id": "9d5127f6-3563-44f4-9391-89bfd0f190aa",
   "metadata": {},
   "outputs": [],
   "source": []
  }
 ],
 "metadata": {
  "kernelspec": {
   "display_name": "Python 3 (ipykernel)",
   "language": "python",
   "name": "python3"
  },
  "language_info": {
   "codemirror_mode": {
    "name": "ipython",
    "version": 3
   },
   "file_extension": ".py",
   "mimetype": "text/x-python",
   "name": "python",
   "nbconvert_exporter": "python",
   "pygments_lexer": "ipython3",
   "version": "3.11.4"
  }
 },
 "nbformat": 4,
 "nbformat_minor": 5
}
