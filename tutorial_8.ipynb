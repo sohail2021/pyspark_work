{
 "cells": [
  {
   "cell_type": "code",
   "execution_count": 2,
   "id": "5e0896de-f9f1-4ecf-ba0d-6d321e78b172",
   "metadata": {},
   "outputs": [],
   "source": [
    "import findspark\n",
    "findspark.init()\n",
    "\n",
    "from pyspark.sql import SparkSession\n",
    "from pyspark.sql.types import StructType, StructField, StringType, IntegerType, DoubleType\n",
    "\n",
    "# create spark session\n",
    "spark = (\n",
    "    SparkSession.builder.appName(\"working with string & dates\").getOrCreate()\n",
    ")"
   ]
  },
  {
   "cell_type": "code",
   "execution_count": 25,
   "id": "382f7456-0817-4ba7-a269-6d899f44d326",
   "metadata": {},
   "outputs": [],
   "source": [
    "# Emp Data & Schema\n",
    "\n",
    "emp_data = [\n",
    "    [\"001\",\"101\",\"John Doe\",\"30\",\"Male\",\"50000\",\"2015-01-01\"],\n",
    "    [\"002\",\"101\",\"Jane Smith\",\"25\",\"Female\",\"45000\",\"2016-02-15\"],\n",
    "    [\"003\",\"102\",\"Bob Brown\",\"35\",\"Male\",\"55000\",\"2014-05-01\"],\n",
    "    [\"004\",\"102\",\"Alice Lee\",\"28\",\"Female\",\"48000\",\"2017-09-30\"],\n",
    "    [\"005\",\"103\",\"Jack Chan\",\"40\",\"Male\",\"60000\",\"2013-04-01\"],\n",
    "    [\"006\",\"103\",\"Jill Wong\",\"32\",\"\",\"52000\",\"2018-07-01\"],\n",
    "    [\"007\",\"101\",\"James Johnson\",\"42\",\"Male\",\"70000\",\"2012-03-15\"],\n",
    "    [\"008\",\"102\",\"Kate Kim\",\"29\",\"Female\",\"51000\",\"2019-10-01\"],\n",
    "    [\"009\",\"103\",\"Tom Tan\",\"33\",\"Male\",\"58000\",\"2016-06-01\"],\n",
    "    [\"010\",\"104\",\"Lisa Lee\",\"27\",\"Female\",\"47000\",\"2018-08-01\"],\n",
    "    [\"011\",\"104\",\"David Park\",\"38\",\"Male\",\"65000\",\"2015-11-01\"],\n",
    "    [\"012\",\"105\",\"Susan Chen\",\"31\",\"Female\",\"54000\",\"2017-02-15\"],\n",
    "    [\"013\",\"106\",\"Brian Kim\",\"45\",\"Male\",\"75000\",\"2011-07-01\"],\n",
    "    [\"014\",\"107\",\"Emily Lee\",\"26\",\"Female\",\"46000\",\"2019-01-01\"],\n",
    "    [\"015\",\"106\",\"Michael Lee\",\"37\",\"Male\",\"63000\",\"2014-09-30\"],\n",
    "    [\"016\",\"107\",\"Kelly Zhang\",\"30\",\"Female\",\"49000\",\"2018-04-01\"],\n",
    "    [\"017\",\"105\",\"George Wang\",\"34\",\"\",\"57000\",\"2016-03-15\"],\n",
    "    [\"018\",\"104\",\"Nancy Liu\",\"29\",\"Female\",\"50000\",\"2017-06-01\"],\n",
    "    [\"019\",\"103\",\"Steven Chen\",\"36\",\"Male\",\"62000\",\"2015-08-01\"],\n",
    "    [\"020\",\"102\",\"Grace Kim\",\"32\",\"Female\",\"53000\",\"2018-11-01\"]\n",
    "]\n",
    "\n",
    "emp_schema = [\"emp_id\", \"dept_id\", \"emp_name\", \"age\", \"gender\", \"salary\", \"hire_date\"]"
   ]
  },
  {
   "cell_type": "code",
   "execution_count": 26,
   "id": "2d34ce3c-eded-4fb5-b153-d32fabfc5dbb",
   "metadata": {},
   "outputs": [],
   "source": [
    "emp_df = spark.createDataFrame(data=emp_data, schema=emp_schema)"
   ]
  },
  {
   "cell_type": "code",
   "execution_count": 27,
   "id": "6f18017f-7d58-4e28-8590-4624b64e0728",
   "metadata": {},
   "outputs": [
    {
     "name": "stdout",
     "output_type": "stream",
     "text": [
      "+------+-------+-------------+---+------+------+----------+\n",
      "|emp_id|dept_id|     emp_name|age|gender|salary| hire_date|\n",
      "+------+-------+-------------+---+------+------+----------+\n",
      "|   001|    101|     John Doe| 30|  Male| 50000|2015-01-01|\n",
      "|   002|    101|   Jane Smith| 25|Female| 45000|2016-02-15|\n",
      "|   003|    102|    Bob Brown| 35|  Male| 55000|2014-05-01|\n",
      "|   004|    102|    Alice Lee| 28|Female| 48000|2017-09-30|\n",
      "|   005|    103|    Jack Chan| 40|  Male| 60000|2013-04-01|\n",
      "|   006|    103|    Jill Wong| 32|      | 52000|2018-07-01|\n",
      "|   007|    101|James Johnson| 42|  Male| 70000|2012-03-15|\n",
      "|   008|    102|     Kate Kim| 29|Female| 51000|2019-10-01|\n",
      "|   009|    103|      Tom Tan| 33|  Male| 58000|2016-06-01|\n",
      "|   010|    104|     Lisa Lee| 27|Female| 47000|2018-08-01|\n",
      "|   011|    104|   David Park| 38|  Male| 65000|2015-11-01|\n",
      "|   012|    105|   Susan Chen| 31|Female| 54000|2017-02-15|\n",
      "|   013|    106|    Brian Kim| 45|  Male| 75000|2011-07-01|\n",
      "|   014|    107|    Emily Lee| 26|Female| 46000|2019-01-01|\n",
      "|   015|    106|  Michael Lee| 37|  Male| 63000|2014-09-30|\n",
      "|   016|    107|  Kelly Zhang| 30|Female| 49000|2018-04-01|\n",
      "|   017|    105|  George Wang| 34|      | 57000|2016-03-15|\n",
      "|   018|    104|    Nancy Liu| 29|Female| 50000|2017-06-01|\n",
      "|   019|    103|  Steven Chen| 36|  Male| 62000|2015-08-01|\n",
      "|   020|    102|    Grace Kim| 32|Female| 53000|2018-11-01|\n",
      "+------+-------+-------------+---+------+------+----------+\n",
      "\n"
     ]
    }
   ],
   "source": [
    "emp_df.show()"
   ]
  },
  {
   "cell_type": "code",
   "execution_count": 28,
   "id": "6af49c08-759f-42d6-9cca-6b94f9524103",
   "metadata": {},
   "outputs": [
    {
     "name": "stdout",
     "output_type": "stream",
     "text": [
      "root\n",
      " |-- emp_id: string (nullable = true)\n",
      " |-- dept_id: string (nullable = true)\n",
      " |-- emp_name: string (nullable = true)\n",
      " |-- age: string (nullable = true)\n",
      " |-- gender: string (nullable = true)\n",
      " |-- salary: string (nullable = true)\n",
      " |-- hire_date: string (nullable = true)\n",
      "\n"
     ]
    }
   ],
   "source": [
    "emp_df.printSchema()"
   ]
  },
  {
   "cell_type": "code",
   "execution_count": 29,
   "id": "4dc28533-118c-4306-a0df-cec11e44ae0d",
   "metadata": {},
   "outputs": [],
   "source": [
    "# Case When\n",
    "# select employee_id, name, age, salary, gender,\n",
    "# case when gender = 'Male' then 'M' when gender = 'Female' then 'F' else null end as new_gender, hire_date from emp\n",
    "from pyspark.sql.functions import when, col, expr\n",
    "\n",
    "# using case When\n",
    "emp_gender_fixed = emp_df.withColumn(\"new_gender\", when(col(\"gender\") == 'Male', 'M')\n",
    "                                 .when(col(\"gender\") == 'Female', 'F')\n",
    "                                 .otherwise(None)\n",
    "                                 )\n",
    "\n",
    "# using 'expr' for case expression\n",
    "emp_gender_fixed_1 = emp_df.withColumn(\"new_gender\", expr(\"case when gender = 'Male' then 'M' when gender = 'Female' then 'F' else null end\"))"
   ]
  },
  {
   "cell_type": "code",
   "execution_count": 30,
   "id": "e63e9487-860e-4403-b070-cc8c781d2c38",
   "metadata": {},
   "outputs": [
    {
     "name": "stdout",
     "output_type": "stream",
     "text": [
      "+------+-------+-------------+---+------+------+----------+----------+\n",
      "|emp_id|dept_id|     emp_name|age|gender|salary| hire_date|new_gender|\n",
      "+------+-------+-------------+---+------+------+----------+----------+\n",
      "|   001|    101|     John Doe| 30|  Male| 50000|2015-01-01|         M|\n",
      "|   002|    101|   Jane Smith| 25|Female| 45000|2016-02-15|         F|\n",
      "|   003|    102|    Bob Brown| 35|  Male| 55000|2014-05-01|         M|\n",
      "|   004|    102|    Alice Lee| 28|Female| 48000|2017-09-30|         F|\n",
      "|   005|    103|    Jack Chan| 40|  Male| 60000|2013-04-01|         M|\n",
      "|   006|    103|    Jill Wong| 32|      | 52000|2018-07-01|      NULL|\n",
      "|   007|    101|James Johnson| 42|  Male| 70000|2012-03-15|         M|\n",
      "|   008|    102|     Kate Kim| 29|Female| 51000|2019-10-01|         F|\n",
      "|   009|    103|      Tom Tan| 33|  Male| 58000|2016-06-01|         M|\n",
      "|   010|    104|     Lisa Lee| 27|Female| 47000|2018-08-01|         F|\n",
      "|   011|    104|   David Park| 38|  Male| 65000|2015-11-01|         M|\n",
      "|   012|    105|   Susan Chen| 31|Female| 54000|2017-02-15|         F|\n",
      "|   013|    106|    Brian Kim| 45|  Male| 75000|2011-07-01|         M|\n",
      "|   014|    107|    Emily Lee| 26|Female| 46000|2019-01-01|         F|\n",
      "|   015|    106|  Michael Lee| 37|  Male| 63000|2014-09-30|         M|\n",
      "|   016|    107|  Kelly Zhang| 30|Female| 49000|2018-04-01|         F|\n",
      "|   017|    105|  George Wang| 34|      | 57000|2016-03-15|      NULL|\n",
      "|   018|    104|    Nancy Liu| 29|Female| 50000|2017-06-01|         F|\n",
      "|   019|    103|  Steven Chen| 36|  Male| 62000|2015-08-01|         M|\n",
      "|   020|    102|    Grace Kim| 32|Female| 53000|2018-11-01|         F|\n",
      "+------+-------+-------------+---+------+------+----------+----------+\n",
      "\n"
     ]
    }
   ],
   "source": [
    "emp_gender_fixed.show()"
   ]
  },
  {
   "cell_type": "code",
   "execution_count": 31,
   "id": "aee3d327-a808-4e8f-a9dd-db9774069261",
   "metadata": {},
   "outputs": [
    {
     "name": "stdout",
     "output_type": "stream",
     "text": [
      "+------+-------+-------------+---+------+------+----------+----------+\n",
      "|emp_id|dept_id|     emp_name|age|gender|salary| hire_date|new_gender|\n",
      "+------+-------+-------------+---+------+------+----------+----------+\n",
      "|   001|    101|     John Doe| 30|  Male| 50000|2015-01-01|         M|\n",
      "|   002|    101|   Jane Smith| 25|Female| 45000|2016-02-15|         F|\n",
      "|   003|    102|    Bob Brown| 35|  Male| 55000|2014-05-01|         M|\n",
      "|   004|    102|    Alice Lee| 28|Female| 48000|2017-09-30|         F|\n",
      "|   005|    103|    Jack Chan| 40|  Male| 60000|2013-04-01|         M|\n",
      "|   006|    103|    Jill Wong| 32|      | 52000|2018-07-01|      NULL|\n",
      "|   007|    101|James Johnson| 42|  Male| 70000|2012-03-15|         M|\n",
      "|   008|    102|     Kate Kim| 29|Female| 51000|2019-10-01|         F|\n",
      "|   009|    103|      Tom Tan| 33|  Male| 58000|2016-06-01|         M|\n",
      "|   010|    104|     Lisa Lee| 27|Female| 47000|2018-08-01|         F|\n",
      "|   011|    104|   David Park| 38|  Male| 65000|2015-11-01|         M|\n",
      "|   012|    105|   Susan Chen| 31|Female| 54000|2017-02-15|         F|\n",
      "|   013|    106|    Brian Kim| 45|  Male| 75000|2011-07-01|         M|\n",
      "|   014|    107|    Emily Lee| 26|Female| 46000|2019-01-01|         F|\n",
      "|   015|    106|  Michael Lee| 37|  Male| 63000|2014-09-30|         M|\n",
      "|   016|    107|  Kelly Zhang| 30|Female| 49000|2018-04-01|         F|\n",
      "|   017|    105|  George Wang| 34|      | 57000|2016-03-15|      NULL|\n",
      "|   018|    104|    Nancy Liu| 29|Female| 50000|2017-06-01|         F|\n",
      "|   019|    103|  Steven Chen| 36|  Male| 62000|2015-08-01|         M|\n",
      "|   020|    102|    Grace Kim| 32|Female| 53000|2018-11-01|         F|\n",
      "+------+-------+-------------+---+------+------+----------+----------+\n",
      "\n"
     ]
    }
   ],
   "source": [
    "emp_gender_fixed_1.show()"
   ]
  },
  {
   "cell_type": "code",
   "execution_count": 32,
   "id": "d7849dd7-79d1-4565-bedf-bd60acc65c73",
   "metadata": {},
   "outputs": [],
   "source": [
    "# Replace in Strings\n",
    "# select employee_id, emp_name, replace(emp_name, 'J', 'Z') as new_name, age, salary, gender, new_gender, hire_date from emp_gender_fixed\n",
    "from pyspark.sql.functions import regexp_replace\n",
    "\n",
    "emp_name_fixed = emp_gender_fixed.withColumn(\"new_name\", regexp_replace(col(\"emp_name\"), \"J\", \"Z\"))"
   ]
  },
  {
   "cell_type": "code",
   "execution_count": 33,
   "id": "41108c08-d1a0-4027-a306-4db051da3663",
   "metadata": {},
   "outputs": [
    {
     "name": "stdout",
     "output_type": "stream",
     "text": [
      "+------+-------+-------------+---+------+------+----------+----------+-------------+\n",
      "|emp_id|dept_id|     emp_name|age|gender|salary| hire_date|new_gender|     new_name|\n",
      "+------+-------+-------------+---+------+------+----------+----------+-------------+\n",
      "|   001|    101|     John Doe| 30|  Male| 50000|2015-01-01|         M|     Zohn Doe|\n",
      "|   002|    101|   Jane Smith| 25|Female| 45000|2016-02-15|         F|   Zane Smith|\n",
      "|   003|    102|    Bob Brown| 35|  Male| 55000|2014-05-01|         M|    Bob Brown|\n",
      "|   004|    102|    Alice Lee| 28|Female| 48000|2017-09-30|         F|    Alice Lee|\n",
      "|   005|    103|    Jack Chan| 40|  Male| 60000|2013-04-01|         M|    Zack Chan|\n",
      "|   006|    103|    Jill Wong| 32|      | 52000|2018-07-01|      NULL|    Zill Wong|\n",
      "|   007|    101|James Johnson| 42|  Male| 70000|2012-03-15|         M|Zames Zohnson|\n",
      "|   008|    102|     Kate Kim| 29|Female| 51000|2019-10-01|         F|     Kate Kim|\n",
      "|   009|    103|      Tom Tan| 33|  Male| 58000|2016-06-01|         M|      Tom Tan|\n",
      "|   010|    104|     Lisa Lee| 27|Female| 47000|2018-08-01|         F|     Lisa Lee|\n",
      "|   011|    104|   David Park| 38|  Male| 65000|2015-11-01|         M|   David Park|\n",
      "|   012|    105|   Susan Chen| 31|Female| 54000|2017-02-15|         F|   Susan Chen|\n",
      "|   013|    106|    Brian Kim| 45|  Male| 75000|2011-07-01|         M|    Brian Kim|\n",
      "|   014|    107|    Emily Lee| 26|Female| 46000|2019-01-01|         F|    Emily Lee|\n",
      "|   015|    106|  Michael Lee| 37|  Male| 63000|2014-09-30|         M|  Michael Lee|\n",
      "|   016|    107|  Kelly Zhang| 30|Female| 49000|2018-04-01|         F|  Kelly Zhang|\n",
      "|   017|    105|  George Wang| 34|      | 57000|2016-03-15|      NULL|  George Wang|\n",
      "|   018|    104|    Nancy Liu| 29|Female| 50000|2017-06-01|         F|    Nancy Liu|\n",
      "|   019|    103|  Steven Chen| 36|  Male| 62000|2015-08-01|         M|  Steven Chen|\n",
      "|   020|    102|    Grace Kim| 32|Female| 53000|2018-11-01|         F|    Grace Kim|\n",
      "+------+-------+-------------+---+------+------+----------+----------+-------------+\n",
      "\n"
     ]
    }
   ],
   "source": [
    "emp_name_fixed.show()"
   ]
  },
  {
   "cell_type": "code",
   "execution_count": 34,
   "id": "8a5301da-6ac6-47ba-a27a-3ae79e23142f",
   "metadata": {},
   "outputs": [],
   "source": [
    "# Convert Date\n",
    "# select *,  to_date(hire_date, 'YYYY-MM-DD') as hire_date from emp_name_fixed\n",
    "from pyspark.sql.functions import to_date\n",
    "\n",
    "emp_date_fix = emp_name_fixed.withColumn(\"hire_date\", to_date(col(\"hire_date\"), 'yyyy-MM-dd'))"
   ]
  },
  {
   "cell_type": "code",
   "execution_count": 35,
   "id": "de4b2d24-1c69-4632-b3bd-4b1caf69df65",
   "metadata": {},
   "outputs": [
    {
     "name": "stdout",
     "output_type": "stream",
     "text": [
      "+------+-------+-------------+---+------+------+----------+----------+-------------+\n",
      "|emp_id|dept_id|     emp_name|age|gender|salary| hire_date|new_gender|     new_name|\n",
      "+------+-------+-------------+---+------+------+----------+----------+-------------+\n",
      "|   001|    101|     John Doe| 30|  Male| 50000|2015-01-01|         M|     Zohn Doe|\n",
      "|   002|    101|   Jane Smith| 25|Female| 45000|2016-02-15|         F|   Zane Smith|\n",
      "|   003|    102|    Bob Brown| 35|  Male| 55000|2014-05-01|         M|    Bob Brown|\n",
      "|   004|    102|    Alice Lee| 28|Female| 48000|2017-09-30|         F|    Alice Lee|\n",
      "|   005|    103|    Jack Chan| 40|  Male| 60000|2013-04-01|         M|    Zack Chan|\n",
      "|   006|    103|    Jill Wong| 32|      | 52000|2018-07-01|      NULL|    Zill Wong|\n",
      "|   007|    101|James Johnson| 42|  Male| 70000|2012-03-15|         M|Zames Zohnson|\n",
      "|   008|    102|     Kate Kim| 29|Female| 51000|2019-10-01|         F|     Kate Kim|\n",
      "|   009|    103|      Tom Tan| 33|  Male| 58000|2016-06-01|         M|      Tom Tan|\n",
      "|   010|    104|     Lisa Lee| 27|Female| 47000|2018-08-01|         F|     Lisa Lee|\n",
      "|   011|    104|   David Park| 38|  Male| 65000|2015-11-01|         M|   David Park|\n",
      "|   012|    105|   Susan Chen| 31|Female| 54000|2017-02-15|         F|   Susan Chen|\n",
      "|   013|    106|    Brian Kim| 45|  Male| 75000|2011-07-01|         M|    Brian Kim|\n",
      "|   014|    107|    Emily Lee| 26|Female| 46000|2019-01-01|         F|    Emily Lee|\n",
      "|   015|    106|  Michael Lee| 37|  Male| 63000|2014-09-30|         M|  Michael Lee|\n",
      "|   016|    107|  Kelly Zhang| 30|Female| 49000|2018-04-01|         F|  Kelly Zhang|\n",
      "|   017|    105|  George Wang| 34|      | 57000|2016-03-15|      NULL|  George Wang|\n",
      "|   018|    104|    Nancy Liu| 29|Female| 50000|2017-06-01|         F|    Nancy Liu|\n",
      "|   019|    103|  Steven Chen| 36|  Male| 62000|2015-08-01|         M|  Steven Chen|\n",
      "|   020|    102|    Grace Kim| 32|Female| 53000|2018-11-01|         F|    Grace Kim|\n",
      "+------+-------+-------------+---+------+------+----------+----------+-------------+\n",
      "\n"
     ]
    }
   ],
   "source": [
    "emp_date_fix.show()"
   ]
  },
  {
   "cell_type": "code",
   "execution_count": 36,
   "id": "9e69e1e9-945d-4b85-96cd-74fc42ea53ea",
   "metadata": {},
   "outputs": [
    {
     "name": "stdout",
     "output_type": "stream",
     "text": [
      "root\n",
      " |-- emp_id: string (nullable = true)\n",
      " |-- dept_id: string (nullable = true)\n",
      " |-- emp_name: string (nullable = true)\n",
      " |-- age: string (nullable = true)\n",
      " |-- gender: string (nullable = true)\n",
      " |-- salary: string (nullable = true)\n",
      " |-- hire_date: date (nullable = true)\n",
      " |-- new_gender: string (nullable = true)\n",
      " |-- new_name: string (nullable = true)\n",
      "\n"
     ]
    }
   ],
   "source": [
    "emp_date_fix.printSchema()"
   ]
  },
  {
   "cell_type": "code",
   "execution_count": 37,
   "id": "d738ac8b-02af-43f6-a6eb-ece15006df73",
   "metadata": {},
   "outputs": [],
   "source": [
    "# Add Date Columns\n",
    "# Add current_date, current_timestamp, extract year from hire_date\n",
    "from pyspark.sql.functions import current_date, current_timestamp\n",
    "\n",
    "emp_dated = emp_date_fix.withColumn(\"date_now\", current_date()).withColumn(\"timestamp_now\", current_timestamp())"
   ]
  },
  {
   "cell_type": "code",
   "execution_count": 38,
   "id": "d2647cfe-ab2d-4acc-92dd-7bb8dce50f34",
   "metadata": {},
   "outputs": [
    {
     "name": "stdout",
     "output_type": "stream",
     "text": [
      "+------+-------+-------------+---+------+------+----------+----------+-------------+----------+--------------------+\n",
      "|emp_id|dept_id|     emp_name|age|gender|salary| hire_date|new_gender|     new_name|  date_now|       timestamp_now|\n",
      "+------+-------+-------------+---+------+------+----------+----------+-------------+----------+--------------------+\n",
      "|   001|    101|     John Doe| 30|  Male| 50000|2015-01-01|         M|     Zohn Doe|2025-09-29|2025-09-29 20:24:...|\n",
      "|   002|    101|   Jane Smith| 25|Female| 45000|2016-02-15|         F|   Zane Smith|2025-09-29|2025-09-29 20:24:...|\n",
      "|   003|    102|    Bob Brown| 35|  Male| 55000|2014-05-01|         M|    Bob Brown|2025-09-29|2025-09-29 20:24:...|\n",
      "|   004|    102|    Alice Lee| 28|Female| 48000|2017-09-30|         F|    Alice Lee|2025-09-29|2025-09-29 20:24:...|\n",
      "|   005|    103|    Jack Chan| 40|  Male| 60000|2013-04-01|         M|    Zack Chan|2025-09-29|2025-09-29 20:24:...|\n",
      "|   006|    103|    Jill Wong| 32|      | 52000|2018-07-01|      NULL|    Zill Wong|2025-09-29|2025-09-29 20:24:...|\n",
      "|   007|    101|James Johnson| 42|  Male| 70000|2012-03-15|         M|Zames Zohnson|2025-09-29|2025-09-29 20:24:...|\n",
      "|   008|    102|     Kate Kim| 29|Female| 51000|2019-10-01|         F|     Kate Kim|2025-09-29|2025-09-29 20:24:...|\n",
      "|   009|    103|      Tom Tan| 33|  Male| 58000|2016-06-01|         M|      Tom Tan|2025-09-29|2025-09-29 20:24:...|\n",
      "|   010|    104|     Lisa Lee| 27|Female| 47000|2018-08-01|         F|     Lisa Lee|2025-09-29|2025-09-29 20:24:...|\n",
      "|   011|    104|   David Park| 38|  Male| 65000|2015-11-01|         M|   David Park|2025-09-29|2025-09-29 20:24:...|\n",
      "|   012|    105|   Susan Chen| 31|Female| 54000|2017-02-15|         F|   Susan Chen|2025-09-29|2025-09-29 20:24:...|\n",
      "|   013|    106|    Brian Kim| 45|  Male| 75000|2011-07-01|         M|    Brian Kim|2025-09-29|2025-09-29 20:24:...|\n",
      "|   014|    107|    Emily Lee| 26|Female| 46000|2019-01-01|         F|    Emily Lee|2025-09-29|2025-09-29 20:24:...|\n",
      "|   015|    106|  Michael Lee| 37|  Male| 63000|2014-09-30|         M|  Michael Lee|2025-09-29|2025-09-29 20:24:...|\n",
      "|   016|    107|  Kelly Zhang| 30|Female| 49000|2018-04-01|         F|  Kelly Zhang|2025-09-29|2025-09-29 20:24:...|\n",
      "|   017|    105|  George Wang| 34|      | 57000|2016-03-15|      NULL|  George Wang|2025-09-29|2025-09-29 20:24:...|\n",
      "|   018|    104|    Nancy Liu| 29|Female| 50000|2017-06-01|         F|    Nancy Liu|2025-09-29|2025-09-29 20:24:...|\n",
      "|   019|    103|  Steven Chen| 36|  Male| 62000|2015-08-01|         M|  Steven Chen|2025-09-29|2025-09-29 20:24:...|\n",
      "|   020|    102|    Grace Kim| 32|Female| 53000|2018-11-01|         F|    Grace Kim|2025-09-29|2025-09-29 20:24:...|\n",
      "+------+-------+-------------+---+------+------+----------+----------+-------------+----------+--------------------+\n",
      "\n"
     ]
    }
   ],
   "source": [
    "emp_dated.show()"
   ]
  },
  {
   "cell_type": "code",
   "execution_count": 39,
   "id": "ae6a3907-2760-48b2-9c72-ca5de28387c9",
   "metadata": {},
   "outputs": [
    {
     "name": "stdout",
     "output_type": "stream",
     "text": [
      "+------+-------+-------------+---+------+------+----------+----------+-------------+----------+--------------------------+\n",
      "|emp_id|dept_id|emp_name     |age|gender|salary|hire_date |new_gender|new_name     |date_now  |timestamp_now             |\n",
      "+------+-------+-------------+---+------+------+----------+----------+-------------+----------+--------------------------+\n",
      "|001   |101    |John Doe     |30 |Male  |50000 |2015-01-01|M         |Zohn Doe     |2025-09-29|2025-09-29 20:24:50.504598|\n",
      "|002   |101    |Jane Smith   |25 |Female|45000 |2016-02-15|F         |Zane Smith   |2025-09-29|2025-09-29 20:24:50.504598|\n",
      "|003   |102    |Bob Brown    |35 |Male  |55000 |2014-05-01|M         |Bob Brown    |2025-09-29|2025-09-29 20:24:50.504598|\n",
      "|004   |102    |Alice Lee    |28 |Female|48000 |2017-09-30|F         |Alice Lee    |2025-09-29|2025-09-29 20:24:50.504598|\n",
      "|005   |103    |Jack Chan    |40 |Male  |60000 |2013-04-01|M         |Zack Chan    |2025-09-29|2025-09-29 20:24:50.504598|\n",
      "|006   |103    |Jill Wong    |32 |      |52000 |2018-07-01|NULL      |Zill Wong    |2025-09-29|2025-09-29 20:24:50.504598|\n",
      "|007   |101    |James Johnson|42 |Male  |70000 |2012-03-15|M         |Zames Zohnson|2025-09-29|2025-09-29 20:24:50.504598|\n",
      "|008   |102    |Kate Kim     |29 |Female|51000 |2019-10-01|F         |Kate Kim     |2025-09-29|2025-09-29 20:24:50.504598|\n",
      "|009   |103    |Tom Tan      |33 |Male  |58000 |2016-06-01|M         |Tom Tan      |2025-09-29|2025-09-29 20:24:50.504598|\n",
      "|010   |104    |Lisa Lee     |27 |Female|47000 |2018-08-01|F         |Lisa Lee     |2025-09-29|2025-09-29 20:24:50.504598|\n",
      "|011   |104    |David Park   |38 |Male  |65000 |2015-11-01|M         |David Park   |2025-09-29|2025-09-29 20:24:50.504598|\n",
      "|012   |105    |Susan Chen   |31 |Female|54000 |2017-02-15|F         |Susan Chen   |2025-09-29|2025-09-29 20:24:50.504598|\n",
      "|013   |106    |Brian Kim    |45 |Male  |75000 |2011-07-01|M         |Brian Kim    |2025-09-29|2025-09-29 20:24:50.504598|\n",
      "|014   |107    |Emily Lee    |26 |Female|46000 |2019-01-01|F         |Emily Lee    |2025-09-29|2025-09-29 20:24:50.504598|\n",
      "|015   |106    |Michael Lee  |37 |Male  |63000 |2014-09-30|M         |Michael Lee  |2025-09-29|2025-09-29 20:24:50.504598|\n",
      "|016   |107    |Kelly Zhang  |30 |Female|49000 |2018-04-01|F         |Kelly Zhang  |2025-09-29|2025-09-29 20:24:50.504598|\n",
      "|017   |105    |George Wang  |34 |      |57000 |2016-03-15|NULL      |George Wang  |2025-09-29|2025-09-29 20:24:50.504598|\n",
      "|018   |104    |Nancy Liu    |29 |Female|50000 |2017-06-01|F         |Nancy Liu    |2025-09-29|2025-09-29 20:24:50.504598|\n",
      "|019   |103    |Steven Chen  |36 |Male  |62000 |2015-08-01|M         |Steven Chen  |2025-09-29|2025-09-29 20:24:50.504598|\n",
      "|020   |102    |Grace Kim    |32 |Female|53000 |2018-11-01|F         |Grace Kim    |2025-09-29|2025-09-29 20:24:50.504598|\n",
      "+------+-------+-------------+---+------+------+----------+----------+-------------+----------+--------------------------+\n",
      "\n"
     ]
    }
   ],
   "source": [
    "emp_dated.show(truncate=False)"
   ]
  },
  {
   "cell_type": "code",
   "execution_count": 40,
   "id": "bb1507bc-3cef-4ab4-8a3d-c529f8570c76",
   "metadata": {},
   "outputs": [],
   "source": [
    "# Drop Null gender records\n",
    "emp_1 = emp_dated.na.drop()"
   ]
  },
  {
   "cell_type": "code",
   "execution_count": 41,
   "id": "26351e6c-e412-4bdb-a62c-86ee85430649",
   "metadata": {},
   "outputs": [
    {
     "name": "stdout",
     "output_type": "stream",
     "text": [
      "+------+-------+-------------+---+------+------+----------+----------+-------------+----------+--------------------+\n",
      "|emp_id|dept_id|     emp_name|age|gender|salary| hire_date|new_gender|     new_name|  date_now|       timestamp_now|\n",
      "+------+-------+-------------+---+------+------+----------+----------+-------------+----------+--------------------+\n",
      "|   001|    101|     John Doe| 30|  Male| 50000|2015-01-01|         M|     Zohn Doe|2025-09-29|2025-09-29 20:25:...|\n",
      "|   002|    101|   Jane Smith| 25|Female| 45000|2016-02-15|         F|   Zane Smith|2025-09-29|2025-09-29 20:25:...|\n",
      "|   003|    102|    Bob Brown| 35|  Male| 55000|2014-05-01|         M|    Bob Brown|2025-09-29|2025-09-29 20:25:...|\n",
      "|   004|    102|    Alice Lee| 28|Female| 48000|2017-09-30|         F|    Alice Lee|2025-09-29|2025-09-29 20:25:...|\n",
      "|   005|    103|    Jack Chan| 40|  Male| 60000|2013-04-01|         M|    Zack Chan|2025-09-29|2025-09-29 20:25:...|\n",
      "|   007|    101|James Johnson| 42|  Male| 70000|2012-03-15|         M|Zames Zohnson|2025-09-29|2025-09-29 20:25:...|\n",
      "|   008|    102|     Kate Kim| 29|Female| 51000|2019-10-01|         F|     Kate Kim|2025-09-29|2025-09-29 20:25:...|\n",
      "|   009|    103|      Tom Tan| 33|  Male| 58000|2016-06-01|         M|      Tom Tan|2025-09-29|2025-09-29 20:25:...|\n",
      "|   010|    104|     Lisa Lee| 27|Female| 47000|2018-08-01|         F|     Lisa Lee|2025-09-29|2025-09-29 20:25:...|\n",
      "|   011|    104|   David Park| 38|  Male| 65000|2015-11-01|         M|   David Park|2025-09-29|2025-09-29 20:25:...|\n",
      "|   012|    105|   Susan Chen| 31|Female| 54000|2017-02-15|         F|   Susan Chen|2025-09-29|2025-09-29 20:25:...|\n",
      "|   013|    106|    Brian Kim| 45|  Male| 75000|2011-07-01|         M|    Brian Kim|2025-09-29|2025-09-29 20:25:...|\n",
      "|   014|    107|    Emily Lee| 26|Female| 46000|2019-01-01|         F|    Emily Lee|2025-09-29|2025-09-29 20:25:...|\n",
      "|   015|    106|  Michael Lee| 37|  Male| 63000|2014-09-30|         M|  Michael Lee|2025-09-29|2025-09-29 20:25:...|\n",
      "|   016|    107|  Kelly Zhang| 30|Female| 49000|2018-04-01|         F|  Kelly Zhang|2025-09-29|2025-09-29 20:25:...|\n",
      "|   018|    104|    Nancy Liu| 29|Female| 50000|2017-06-01|         F|    Nancy Liu|2025-09-29|2025-09-29 20:25:...|\n",
      "|   019|    103|  Steven Chen| 36|  Male| 62000|2015-08-01|         M|  Steven Chen|2025-09-29|2025-09-29 20:25:...|\n",
      "|   020|    102|    Grace Kim| 32|Female| 53000|2018-11-01|         F|    Grace Kim|2025-09-29|2025-09-29 20:25:...|\n",
      "+------+-------+-------------+---+------+------+----------+----------+-------------+----------+--------------------+\n",
      "\n"
     ]
    }
   ],
   "source": [
    "emp_1.show()"
   ]
  },
  {
   "cell_type": "code",
   "execution_count": 42,
   "id": "8ca55735-da45-4033-b204-6a913a698ac0",
   "metadata": {},
   "outputs": [],
   "source": [
    "# Fix Null values\n",
    "# select *, nvl('new_gender', 'O') as new_gender from emp_dated\n",
    "from pyspark.sql.functions import coalesce, lit\n",
    "\n",
    "emp_null_df = emp_dated.withColumn(\"new_gender\", coalesce(col(\"new_gender\"), lit(\"O\")))"
   ]
  },
  {
   "cell_type": "code",
   "execution_count": 43,
   "id": "29ab65ad-a53b-41de-8fca-f7f6ead54904",
   "metadata": {},
   "outputs": [
    {
     "name": "stdout",
     "output_type": "stream",
     "text": [
      "+------+-------+-------------+---+------+------+----------+----------+-------------+----------+--------------------+\n",
      "|emp_id|dept_id|     emp_name|age|gender|salary| hire_date|new_gender|     new_name|  date_now|       timestamp_now|\n",
      "+------+-------+-------------+---+------+------+----------+----------+-------------+----------+--------------------+\n",
      "|   001|    101|     John Doe| 30|  Male| 50000|2015-01-01|         M|     Zohn Doe|2025-09-29|2025-09-29 20:28:...|\n",
      "|   002|    101|   Jane Smith| 25|Female| 45000|2016-02-15|         F|   Zane Smith|2025-09-29|2025-09-29 20:28:...|\n",
      "|   003|    102|    Bob Brown| 35|  Male| 55000|2014-05-01|         M|    Bob Brown|2025-09-29|2025-09-29 20:28:...|\n",
      "|   004|    102|    Alice Lee| 28|Female| 48000|2017-09-30|         F|    Alice Lee|2025-09-29|2025-09-29 20:28:...|\n",
      "|   005|    103|    Jack Chan| 40|  Male| 60000|2013-04-01|         M|    Zack Chan|2025-09-29|2025-09-29 20:28:...|\n",
      "|   006|    103|    Jill Wong| 32|      | 52000|2018-07-01|         O|    Zill Wong|2025-09-29|2025-09-29 20:28:...|\n",
      "|   007|    101|James Johnson| 42|  Male| 70000|2012-03-15|         M|Zames Zohnson|2025-09-29|2025-09-29 20:28:...|\n",
      "|   008|    102|     Kate Kim| 29|Female| 51000|2019-10-01|         F|     Kate Kim|2025-09-29|2025-09-29 20:28:...|\n",
      "|   009|    103|      Tom Tan| 33|  Male| 58000|2016-06-01|         M|      Tom Tan|2025-09-29|2025-09-29 20:28:...|\n",
      "|   010|    104|     Lisa Lee| 27|Female| 47000|2018-08-01|         F|     Lisa Lee|2025-09-29|2025-09-29 20:28:...|\n",
      "|   011|    104|   David Park| 38|  Male| 65000|2015-11-01|         M|   David Park|2025-09-29|2025-09-29 20:28:...|\n",
      "|   012|    105|   Susan Chen| 31|Female| 54000|2017-02-15|         F|   Susan Chen|2025-09-29|2025-09-29 20:28:...|\n",
      "|   013|    106|    Brian Kim| 45|  Male| 75000|2011-07-01|         M|    Brian Kim|2025-09-29|2025-09-29 20:28:...|\n",
      "|   014|    107|    Emily Lee| 26|Female| 46000|2019-01-01|         F|    Emily Lee|2025-09-29|2025-09-29 20:28:...|\n",
      "|   015|    106|  Michael Lee| 37|  Male| 63000|2014-09-30|         M|  Michael Lee|2025-09-29|2025-09-29 20:28:...|\n",
      "|   016|    107|  Kelly Zhang| 30|Female| 49000|2018-04-01|         F|  Kelly Zhang|2025-09-29|2025-09-29 20:28:...|\n",
      "|   017|    105|  George Wang| 34|      | 57000|2016-03-15|         O|  George Wang|2025-09-29|2025-09-29 20:28:...|\n",
      "|   018|    104|    Nancy Liu| 29|Female| 50000|2017-06-01|         F|    Nancy Liu|2025-09-29|2025-09-29 20:28:...|\n",
      "|   019|    103|  Steven Chen| 36|  Male| 62000|2015-08-01|         M|  Steven Chen|2025-09-29|2025-09-29 20:28:...|\n",
      "|   020|    102|    Grace Kim| 32|Female| 53000|2018-11-01|         F|    Grace Kim|2025-09-29|2025-09-29 20:28:...|\n",
      "+------+-------+-------------+---+------+------+----------+----------+-------------+----------+--------------------+\n",
      "\n"
     ]
    }
   ],
   "source": [
    "emp_null_df.show()"
   ]
  },
  {
   "cell_type": "code",
   "execution_count": 44,
   "id": "ea994045-31e6-4e36-b575-7d47f037af1c",
   "metadata": {},
   "outputs": [],
   "source": [
    "# Drop old columns and Fix new column names\n",
    "emp_final = emp_null_df.drop(\"emp_name\", \"gender\").withColumnRenamed(\"new_name\", \"name\").withColumnRenamed(\"new_gender\", \"gender\")"
   ]
  },
  {
   "cell_type": "code",
   "execution_count": 45,
   "id": "c2ae375a-30b6-4738-a600-d54e5ae37e71",
   "metadata": {},
   "outputs": [
    {
     "name": "stdout",
     "output_type": "stream",
     "text": [
      "+------+-------+---+------+----------+------+-------------+----------+--------------------+\n",
      "|emp_id|dept_id|age|salary| hire_date|gender|         name|  date_now|       timestamp_now|\n",
      "+------+-------+---+------+----------+------+-------------+----------+--------------------+\n",
      "|   001|    101| 30| 50000|2015-01-01|     M|     Zohn Doe|2025-09-29|2025-09-29 20:30:...|\n",
      "|   002|    101| 25| 45000|2016-02-15|     F|   Zane Smith|2025-09-29|2025-09-29 20:30:...|\n",
      "|   003|    102| 35| 55000|2014-05-01|     M|    Bob Brown|2025-09-29|2025-09-29 20:30:...|\n",
      "|   004|    102| 28| 48000|2017-09-30|     F|    Alice Lee|2025-09-29|2025-09-29 20:30:...|\n",
      "|   005|    103| 40| 60000|2013-04-01|     M|    Zack Chan|2025-09-29|2025-09-29 20:30:...|\n",
      "|   006|    103| 32| 52000|2018-07-01|     O|    Zill Wong|2025-09-29|2025-09-29 20:30:...|\n",
      "|   007|    101| 42| 70000|2012-03-15|     M|Zames Zohnson|2025-09-29|2025-09-29 20:30:...|\n",
      "|   008|    102| 29| 51000|2019-10-01|     F|     Kate Kim|2025-09-29|2025-09-29 20:30:...|\n",
      "|   009|    103| 33| 58000|2016-06-01|     M|      Tom Tan|2025-09-29|2025-09-29 20:30:...|\n",
      "|   010|    104| 27| 47000|2018-08-01|     F|     Lisa Lee|2025-09-29|2025-09-29 20:30:...|\n",
      "|   011|    104| 38| 65000|2015-11-01|     M|   David Park|2025-09-29|2025-09-29 20:30:...|\n",
      "|   012|    105| 31| 54000|2017-02-15|     F|   Susan Chen|2025-09-29|2025-09-29 20:30:...|\n",
      "|   013|    106| 45| 75000|2011-07-01|     M|    Brian Kim|2025-09-29|2025-09-29 20:30:...|\n",
      "|   014|    107| 26| 46000|2019-01-01|     F|    Emily Lee|2025-09-29|2025-09-29 20:30:...|\n",
      "|   015|    106| 37| 63000|2014-09-30|     M|  Michael Lee|2025-09-29|2025-09-29 20:30:...|\n",
      "|   016|    107| 30| 49000|2018-04-01|     F|  Kelly Zhang|2025-09-29|2025-09-29 20:30:...|\n",
      "|   017|    105| 34| 57000|2016-03-15|     O|  George Wang|2025-09-29|2025-09-29 20:30:...|\n",
      "|   018|    104| 29| 50000|2017-06-01|     F|    Nancy Liu|2025-09-29|2025-09-29 20:30:...|\n",
      "|   019|    103| 36| 62000|2015-08-01|     M|  Steven Chen|2025-09-29|2025-09-29 20:30:...|\n",
      "|   020|    102| 32| 53000|2018-11-01|     F|    Grace Kim|2025-09-29|2025-09-29 20:30:...|\n",
      "+------+-------+---+------+----------+------+-------------+----------+--------------------+\n",
      "\n"
     ]
    }
   ],
   "source": [
    "emp_final.show()"
   ]
  },
  {
   "cell_type": "code",
   "execution_count": 46,
   "id": "fdddfa47-1aec-4392-a4b0-4cd1c9852134",
   "metadata": {},
   "outputs": [],
   "source": [
    "# Write data as CSV\n",
    "emp_final.write.format(\"csv\").save(\"data/output/3/emp.csv\")"
   ]
  },
  {
   "cell_type": "code",
   "execution_count": 47,
   "id": "c86ae358-4771-46bd-b59c-0d9d006ede79",
   "metadata": {},
   "outputs": [],
   "source": [
    "# Bonus TIP\n",
    "# Convert date into String and extract date information\n",
    "from pyspark.sql.functions import date_format\n",
    "\n",
    "emp_fixed = emp_final.withColumn(\"date_string\", date_format(col(\"hire_date\"), \"dd/MM/yyyy\"))\n",
    "emp_fixed_1 = emp_final.withColumn(\"date_year\", date_format(col(\"timestamp_now\"), \"z\"))"
   ]
  },
  {
   "cell_type": "code",
   "execution_count": 48,
   "id": "b25b09e6-eaa5-4b3e-8db0-370144df7642",
   "metadata": {},
   "outputs": [
    {
     "name": "stdout",
     "output_type": "stream",
     "text": [
      "+------+-------+---+------+----------+------+-------------+----------+--------------------+-----------+\n",
      "|emp_id|dept_id|age|salary| hire_date|gender|         name|  date_now|       timestamp_now|date_string|\n",
      "+------+-------+---+------+----------+------+-------------+----------+--------------------+-----------+\n",
      "|   001|    101| 30| 50000|2015-01-01|     M|     Zohn Doe|2025-09-29|2025-09-29 20:36:...| 01/01/2015|\n",
      "|   002|    101| 25| 45000|2016-02-15|     F|   Zane Smith|2025-09-29|2025-09-29 20:36:...| 15/02/2016|\n",
      "|   003|    102| 35| 55000|2014-05-01|     M|    Bob Brown|2025-09-29|2025-09-29 20:36:...| 01/05/2014|\n",
      "|   004|    102| 28| 48000|2017-09-30|     F|    Alice Lee|2025-09-29|2025-09-29 20:36:...| 30/09/2017|\n",
      "|   005|    103| 40| 60000|2013-04-01|     M|    Zack Chan|2025-09-29|2025-09-29 20:36:...| 01/04/2013|\n",
      "|   006|    103| 32| 52000|2018-07-01|     O|    Zill Wong|2025-09-29|2025-09-29 20:36:...| 01/07/2018|\n",
      "|   007|    101| 42| 70000|2012-03-15|     M|Zames Zohnson|2025-09-29|2025-09-29 20:36:...| 15/03/2012|\n",
      "|   008|    102| 29| 51000|2019-10-01|     F|     Kate Kim|2025-09-29|2025-09-29 20:36:...| 01/10/2019|\n",
      "|   009|    103| 33| 58000|2016-06-01|     M|      Tom Tan|2025-09-29|2025-09-29 20:36:...| 01/06/2016|\n",
      "|   010|    104| 27| 47000|2018-08-01|     F|     Lisa Lee|2025-09-29|2025-09-29 20:36:...| 01/08/2018|\n",
      "|   011|    104| 38| 65000|2015-11-01|     M|   David Park|2025-09-29|2025-09-29 20:36:...| 01/11/2015|\n",
      "|   012|    105| 31| 54000|2017-02-15|     F|   Susan Chen|2025-09-29|2025-09-29 20:36:...| 15/02/2017|\n",
      "|   013|    106| 45| 75000|2011-07-01|     M|    Brian Kim|2025-09-29|2025-09-29 20:36:...| 01/07/2011|\n",
      "|   014|    107| 26| 46000|2019-01-01|     F|    Emily Lee|2025-09-29|2025-09-29 20:36:...| 01/01/2019|\n",
      "|   015|    106| 37| 63000|2014-09-30|     M|  Michael Lee|2025-09-29|2025-09-29 20:36:...| 30/09/2014|\n",
      "|   016|    107| 30| 49000|2018-04-01|     F|  Kelly Zhang|2025-09-29|2025-09-29 20:36:...| 01/04/2018|\n",
      "|   017|    105| 34| 57000|2016-03-15|     O|  George Wang|2025-09-29|2025-09-29 20:36:...| 15/03/2016|\n",
      "|   018|    104| 29| 50000|2017-06-01|     F|    Nancy Liu|2025-09-29|2025-09-29 20:36:...| 01/06/2017|\n",
      "|   019|    103| 36| 62000|2015-08-01|     M|  Steven Chen|2025-09-29|2025-09-29 20:36:...| 01/08/2015|\n",
      "|   020|    102| 32| 53000|2018-11-01|     F|    Grace Kim|2025-09-29|2025-09-29 20:36:...| 01/11/2018|\n",
      "+------+-------+---+------+----------+------+-------------+----------+--------------------+-----------+\n",
      "\n"
     ]
    }
   ],
   "source": [
    "emp_fixed.show()"
   ]
  },
  {
   "cell_type": "code",
   "execution_count": 49,
   "id": "7a66df23-f101-4e6c-b2b6-64b3f0f35852",
   "metadata": {},
   "outputs": [
    {
     "name": "stdout",
     "output_type": "stream",
     "text": [
      "+------+-------+---+------+----------+------+-------------+----------+--------------------+---------+\n",
      "|emp_id|dept_id|age|salary| hire_date|gender|         name|  date_now|       timestamp_now|date_year|\n",
      "+------+-------+---+------+----------+------+-------------+----------+--------------------+---------+\n",
      "|   001|    101| 30| 50000|2015-01-01|     M|     Zohn Doe|2025-09-29|2025-09-29 20:36:...|      IST|\n",
      "|   002|    101| 25| 45000|2016-02-15|     F|   Zane Smith|2025-09-29|2025-09-29 20:36:...|      IST|\n",
      "|   003|    102| 35| 55000|2014-05-01|     M|    Bob Brown|2025-09-29|2025-09-29 20:36:...|      IST|\n",
      "|   004|    102| 28| 48000|2017-09-30|     F|    Alice Lee|2025-09-29|2025-09-29 20:36:...|      IST|\n",
      "|   005|    103| 40| 60000|2013-04-01|     M|    Zack Chan|2025-09-29|2025-09-29 20:36:...|      IST|\n",
      "|   006|    103| 32| 52000|2018-07-01|     O|    Zill Wong|2025-09-29|2025-09-29 20:36:...|      IST|\n",
      "|   007|    101| 42| 70000|2012-03-15|     M|Zames Zohnson|2025-09-29|2025-09-29 20:36:...|      IST|\n",
      "|   008|    102| 29| 51000|2019-10-01|     F|     Kate Kim|2025-09-29|2025-09-29 20:36:...|      IST|\n",
      "|   009|    103| 33| 58000|2016-06-01|     M|      Tom Tan|2025-09-29|2025-09-29 20:36:...|      IST|\n",
      "|   010|    104| 27| 47000|2018-08-01|     F|     Lisa Lee|2025-09-29|2025-09-29 20:36:...|      IST|\n",
      "|   011|    104| 38| 65000|2015-11-01|     M|   David Park|2025-09-29|2025-09-29 20:36:...|      IST|\n",
      "|   012|    105| 31| 54000|2017-02-15|     F|   Susan Chen|2025-09-29|2025-09-29 20:36:...|      IST|\n",
      "|   013|    106| 45| 75000|2011-07-01|     M|    Brian Kim|2025-09-29|2025-09-29 20:36:...|      IST|\n",
      "|   014|    107| 26| 46000|2019-01-01|     F|    Emily Lee|2025-09-29|2025-09-29 20:36:...|      IST|\n",
      "|   015|    106| 37| 63000|2014-09-30|     M|  Michael Lee|2025-09-29|2025-09-29 20:36:...|      IST|\n",
      "|   016|    107| 30| 49000|2018-04-01|     F|  Kelly Zhang|2025-09-29|2025-09-29 20:36:...|      IST|\n",
      "|   017|    105| 34| 57000|2016-03-15|     O|  George Wang|2025-09-29|2025-09-29 20:36:...|      IST|\n",
      "|   018|    104| 29| 50000|2017-06-01|     F|    Nancy Liu|2025-09-29|2025-09-29 20:36:...|      IST|\n",
      "|   019|    103| 36| 62000|2015-08-01|     M|  Steven Chen|2025-09-29|2025-09-29 20:36:...|      IST|\n",
      "|   020|    102| 32| 53000|2018-11-01|     F|    Grace Kim|2025-09-29|2025-09-29 20:36:...|      IST|\n",
      "+------+-------+---+------+----------+------+-------------+----------+--------------------+---------+\n",
      "\n"
     ]
    }
   ],
   "source": [
    "emp_fixed_1.show()"
   ]
  },
  {
   "cell_type": "code",
   "execution_count": null,
   "id": "d5fb56c9-bf5b-46e0-a40c-a4f79fd5a85e",
   "metadata": {},
   "outputs": [],
   "source": [
    "# doc links:\n",
    "# https://spark.apache.org/docs/latest/sql-ref-datetime-pattern.html\n",
    "# https://spark.apache.org/docs/latest/api/python/reference/pyspark.sql/functions.html"
   ]
  },
  {
   "cell_type": "code",
   "execution_count": 50,
   "id": "b33aae71-bb65-435f-baed-1d7c62e714fa",
   "metadata": {},
   "outputs": [],
   "source": [
    "spark.stop()"
   ]
  },
  {
   "cell_type": "code",
   "execution_count": null,
   "id": "6d244626-8230-4f41-aac0-e579329cf40a",
   "metadata": {},
   "outputs": [],
   "source": []
  }
 ],
 "metadata": {
  "kernelspec": {
   "display_name": "Python 3 (ipykernel)",
   "language": "python",
   "name": "python3"
  },
  "language_info": {
   "codemirror_mode": {
    "name": "ipython",
    "version": 3
   },
   "file_extension": ".py",
   "mimetype": "text/x-python",
   "name": "python",
   "nbconvert_exporter": "python",
   "pygments_lexer": "ipython3",
   "version": "3.11.4"
  }
 },
 "nbformat": 4,
 "nbformat_minor": 5
}
