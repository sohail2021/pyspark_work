{
 "cells": [
  {
   "cell_type": "code",
   "execution_count": 1,
   "id": "50a208af-fdc0-40e2-927b-02d3f82308e0",
   "metadata": {},
   "outputs": [],
   "source": [
    "import findspark\n",
    "findspark.init()\n",
    "\n",
    "from pyspark.sql import SparkSession\n",
    "from pyspark.sql.types import StructType, StructField, StringType, IntegerType, DoubleType\n",
    "\n",
    "# create spark session\n",
    "spark = (\n",
    "    SparkSession.builder.appName(\"sort union and aggregation\").getOrCreate()\n",
    ")"
   ]
  },
  {
   "cell_type": "code",
   "execution_count": 2,
   "id": "56586502-c3fe-4a4c-a4a5-20ca731b37f0",
   "metadata": {},
   "outputs": [],
   "source": [
    "# Emp Data & Schema\n",
    "\n",
    "emp_data_1 = [\n",
    "    [\"001\",\"101\",\"John Doe\",\"30\",\"Male\",\"50000\",\"2015-01-01\"],\n",
    "    [\"002\",\"101\",\"Jane Smith\",\"25\",\"Female\",\"45000\",\"2016-02-15\"],\n",
    "    [\"003\",\"102\",\"Bob Brown\",\"35\",\"Male\",\"55000\",\"2014-05-01\"],\n",
    "    [\"004\",\"102\",\"Alice Lee\",\"28\",\"Female\",\"48000\",\"2017-09-30\"],\n",
    "    [\"005\",\"103\",\"Jack Chan\",\"40\",\"Male\",\"60000\",\"2013-04-01\"],\n",
    "    [\"006\",\"103\",\"Jill Wong\",\"32\",\"\",\"52000\",\"2018-07-01\"],\n",
    "    [\"007\",\"101\",\"James Johnson\",\"42\",\"Male\",\"70000\",\"2012-03-15\"],\n",
    "    [\"008\",\"102\",\"Kate Kim\",\"29\",\"Female\",\"51000\",\"2019-10-01\"],\n",
    "    [\"009\",\"103\",\"Tom Tan\",\"33\",\"Male\",\"58000\",\"2016-06-01\"],\n",
    "    [\"010\",\"104\",\"Lisa Lee\",\"27\",\"Female\",\"47000\",\"2018-08-01\"]\n",
    "]\n",
    "\n",
    "emp_data_2 = [\n",
    "    [\"011\",\"104\",\"David Park\",\"38\",\"Male\",\"65000\",\"2015-11-01\"],\n",
    "    [\"012\",\"105\",\"Susan Chen\",\"31\",\"Female\",\"54000\",\"2017-02-15\"],\n",
    "    [\"013\",\"106\",\"Brian Kim\",\"45\",\"Male\",\"75000\",\"2011-07-01\"],\n",
    "    [\"014\",\"107\",\"Emily Lee\",\"26\",\"Female\",\"46000\",\"2019-01-01\"],\n",
    "    [\"015\",\"106\",\"Michael Lee\",\"37\",\"Male\",\"63000\",\"2014-09-30\"],\n",
    "    [\"016\",\"107\",\"Kelly Zhang\",\"30\",\"Female\",\"49000\",\"2018-04-01\"],\n",
    "    [\"017\",\"105\",\"George Wang\",\"34\",\"\",\"57000\",\"2016-03-15\"],\n",
    "    [\"018\",\"104\",\"Nancy Liu\",\"29\",\"Female\",\"50000\",\"2017-06-01\"],\n",
    "    [\"019\",\"103\",\"Steven Chen\",\"36\",\"Male\",\"62000\",\"2015-08-01\"],\n",
    "    [\"020\",\"102\",\"Grace Kim\",\"32\",\"Female\",\"53000\",\"2018-11-01\"]\n",
    "]\n",
    "\n",
    "emp_schema = [\"emp_id\", \"dept_id\", \"emp_name\", \"age\", \"gender\", \"salary\", \"hire_date\"]"
   ]
  },
  {
   "cell_type": "code",
   "execution_count": 3,
   "id": "a761fdca-e459-4b23-8bda-c5ace44d6ece",
   "metadata": {},
   "outputs": [],
   "source": [
    "# Create emp DataFrame\n",
    "\n",
    "emp_data_1 = spark.createDataFrame(data=emp_data_1, schema=emp_schema)\n",
    "emp_data_2 = spark.createDataFrame(data=emp_data_2, schema=emp_schema)"
   ]
  },
  {
   "cell_type": "code",
   "execution_count": 4,
   "id": "dad27ec4-56bc-48d9-b973-f33c4a626c79",
   "metadata": {},
   "outputs": [
    {
     "name": "stdout",
     "output_type": "stream",
     "text": [
      "+------+-------+-------------+---+------+------+----------+\n",
      "|emp_id|dept_id|     emp_name|age|gender|salary| hire_date|\n",
      "+------+-------+-------------+---+------+------+----------+\n",
      "|   001|    101|     John Doe| 30|  Male| 50000|2015-01-01|\n",
      "|   002|    101|   Jane Smith| 25|Female| 45000|2016-02-15|\n",
      "|   003|    102|    Bob Brown| 35|  Male| 55000|2014-05-01|\n",
      "|   004|    102|    Alice Lee| 28|Female| 48000|2017-09-30|\n",
      "|   005|    103|    Jack Chan| 40|  Male| 60000|2013-04-01|\n",
      "|   006|    103|    Jill Wong| 32|      | 52000|2018-07-01|\n",
      "|   007|    101|James Johnson| 42|  Male| 70000|2012-03-15|\n",
      "|   008|    102|     Kate Kim| 29|Female| 51000|2019-10-01|\n",
      "|   009|    103|      Tom Tan| 33|  Male| 58000|2016-06-01|\n",
      "|   010|    104|     Lisa Lee| 27|Female| 47000|2018-08-01|\n",
      "+------+-------+-------------+---+------+------+----------+\n",
      "\n",
      "+------+-------+-----------+---+------+------+----------+\n",
      "|emp_id|dept_id|   emp_name|age|gender|salary| hire_date|\n",
      "+------+-------+-----------+---+------+------+----------+\n",
      "|   011|    104| David Park| 38|  Male| 65000|2015-11-01|\n",
      "|   012|    105| Susan Chen| 31|Female| 54000|2017-02-15|\n",
      "|   013|    106|  Brian Kim| 45|  Male| 75000|2011-07-01|\n",
      "|   014|    107|  Emily Lee| 26|Female| 46000|2019-01-01|\n",
      "|   015|    106|Michael Lee| 37|  Male| 63000|2014-09-30|\n",
      "|   016|    107|Kelly Zhang| 30|Female| 49000|2018-04-01|\n",
      "|   017|    105|George Wang| 34|      | 57000|2016-03-15|\n",
      "|   018|    104|  Nancy Liu| 29|Female| 50000|2017-06-01|\n",
      "|   019|    103|Steven Chen| 36|  Male| 62000|2015-08-01|\n",
      "|   020|    102|  Grace Kim| 32|Female| 53000|2018-11-01|\n",
      "+------+-------+-----------+---+------+------+----------+\n",
      "\n"
     ]
    }
   ],
   "source": [
    "# Show emp dataframe (ACTION)\n",
    "\n",
    "emp_data_1.show()\n",
    "emp_data_2.show()"
   ]
  },
  {
   "cell_type": "code",
   "execution_count": 5,
   "id": "70ae9f8d-10fe-4d4c-bee9-c88166ef67b2",
   "metadata": {},
   "outputs": [
    {
     "name": "stdout",
     "output_type": "stream",
     "text": [
      "root\n",
      " |-- emp_id: string (nullable = true)\n",
      " |-- dept_id: string (nullable = true)\n",
      " |-- emp_name: string (nullable = true)\n",
      " |-- age: string (nullable = true)\n",
      " |-- gender: string (nullable = true)\n",
      " |-- salary: string (nullable = true)\n",
      " |-- hire_date: string (nullable = true)\n",
      "\n",
      "root\n",
      " |-- emp_id: string (nullable = true)\n",
      " |-- dept_id: string (nullable = true)\n",
      " |-- emp_name: string (nullable = true)\n",
      " |-- age: string (nullable = true)\n",
      " |-- gender: string (nullable = true)\n",
      " |-- salary: string (nullable = true)\n",
      " |-- hire_date: string (nullable = true)\n",
      "\n"
     ]
    }
   ],
   "source": [
    "emp_data_1.printSchema()\n",
    "emp_data_2.printSchema()"
   ]
  },
  {
   "cell_type": "code",
   "execution_count": 6,
   "id": "5c431bdb-74d5-4888-9c10-4f44467b0d3b",
   "metadata": {},
   "outputs": [],
   "source": [
    "# UNION and UNION ALL\n",
    "# select * from emp_data_1 UNION select * from emp_data_2\n",
    "emp = emp_data_1.unionAll(emp_data_2)"
   ]
  },
  {
   "cell_type": "code",
   "execution_count": 7,
   "id": "7aa94e59-baa0-4170-b7a4-ebe108ef44ff",
   "metadata": {},
   "outputs": [
    {
     "name": "stdout",
     "output_type": "stream",
     "text": [
      "+------+-------+-------------+---+------+------+----------+\n",
      "|emp_id|dept_id|     emp_name|age|gender|salary| hire_date|\n",
      "+------+-------+-------------+---+------+------+----------+\n",
      "|   001|    101|     John Doe| 30|  Male| 50000|2015-01-01|\n",
      "|   002|    101|   Jane Smith| 25|Female| 45000|2016-02-15|\n",
      "|   003|    102|    Bob Brown| 35|  Male| 55000|2014-05-01|\n",
      "|   004|    102|    Alice Lee| 28|Female| 48000|2017-09-30|\n",
      "|   005|    103|    Jack Chan| 40|  Male| 60000|2013-04-01|\n",
      "|   006|    103|    Jill Wong| 32|      | 52000|2018-07-01|\n",
      "|   007|    101|James Johnson| 42|  Male| 70000|2012-03-15|\n",
      "|   008|    102|     Kate Kim| 29|Female| 51000|2019-10-01|\n",
      "|   009|    103|      Tom Tan| 33|  Male| 58000|2016-06-01|\n",
      "|   010|    104|     Lisa Lee| 27|Female| 47000|2018-08-01|\n",
      "|   011|    104|   David Park| 38|  Male| 65000|2015-11-01|\n",
      "|   012|    105|   Susan Chen| 31|Female| 54000|2017-02-15|\n",
      "|   013|    106|    Brian Kim| 45|  Male| 75000|2011-07-01|\n",
      "|   014|    107|    Emily Lee| 26|Female| 46000|2019-01-01|\n",
      "|   015|    106|  Michael Lee| 37|  Male| 63000|2014-09-30|\n",
      "|   016|    107|  Kelly Zhang| 30|Female| 49000|2018-04-01|\n",
      "|   017|    105|  George Wang| 34|      | 57000|2016-03-15|\n",
      "|   018|    104|    Nancy Liu| 29|Female| 50000|2017-06-01|\n",
      "|   019|    103|  Steven Chen| 36|  Male| 62000|2015-08-01|\n",
      "|   020|    102|    Grace Kim| 32|Female| 53000|2018-11-01|\n",
      "+------+-------+-------------+---+------+------+----------+\n",
      "\n"
     ]
    }
   ],
   "source": [
    "emp.show()"
   ]
  },
  {
   "cell_type": "code",
   "execution_count": 10,
   "id": "bfcbcc7e-3104-434f-8964-c6748fadd981",
   "metadata": {},
   "outputs": [],
   "source": [
    "# Sort the emp data based on desc Salary\n",
    "# select * from emp order by salary desc\n",
    "from pyspark.sql.functions import desc, asc, col\n",
    "\n",
    "emp_sorted_desc = emp.orderBy(col(\"salary\").desc())\n",
    "emp_sorted_asc = emp.orderBy(col(\"salary\").asc())"
   ]
  },
  {
   "cell_type": "code",
   "execution_count": 11,
   "id": "30c60fdd-1660-4f5d-9afb-6f52c53b0898",
   "metadata": {},
   "outputs": [
    {
     "name": "stdout",
     "output_type": "stream",
     "text": [
      "+------+-------+-------------+---+------+------+----------+\n",
      "|emp_id|dept_id|     emp_name|age|gender|salary| hire_date|\n",
      "+------+-------+-------------+---+------+------+----------+\n",
      "|   013|    106|    Brian Kim| 45|  Male| 75000|2011-07-01|\n",
      "|   007|    101|James Johnson| 42|  Male| 70000|2012-03-15|\n",
      "|   011|    104|   David Park| 38|  Male| 65000|2015-11-01|\n",
      "|   015|    106|  Michael Lee| 37|  Male| 63000|2014-09-30|\n",
      "|   019|    103|  Steven Chen| 36|  Male| 62000|2015-08-01|\n",
      "|   005|    103|    Jack Chan| 40|  Male| 60000|2013-04-01|\n",
      "|   009|    103|      Tom Tan| 33|  Male| 58000|2016-06-01|\n",
      "|   017|    105|  George Wang| 34|      | 57000|2016-03-15|\n",
      "|   003|    102|    Bob Brown| 35|  Male| 55000|2014-05-01|\n",
      "|   012|    105|   Susan Chen| 31|Female| 54000|2017-02-15|\n",
      "|   020|    102|    Grace Kim| 32|Female| 53000|2018-11-01|\n",
      "|   006|    103|    Jill Wong| 32|      | 52000|2018-07-01|\n",
      "|   008|    102|     Kate Kim| 29|Female| 51000|2019-10-01|\n",
      "|   018|    104|    Nancy Liu| 29|Female| 50000|2017-06-01|\n",
      "|   001|    101|     John Doe| 30|  Male| 50000|2015-01-01|\n",
      "|   016|    107|  Kelly Zhang| 30|Female| 49000|2018-04-01|\n",
      "|   004|    102|    Alice Lee| 28|Female| 48000|2017-09-30|\n",
      "|   010|    104|     Lisa Lee| 27|Female| 47000|2018-08-01|\n",
      "|   014|    107|    Emily Lee| 26|Female| 46000|2019-01-01|\n",
      "|   002|    101|   Jane Smith| 25|Female| 45000|2016-02-15|\n",
      "+------+-------+-------------+---+------+------+----------+\n",
      "\n"
     ]
    }
   ],
   "source": [
    "emp_sorted_desc.show()"
   ]
  },
  {
   "cell_type": "code",
   "execution_count": 12,
   "id": "d1fc1c75-323c-4d8e-ad54-40d521d26da9",
   "metadata": {},
   "outputs": [
    {
     "name": "stdout",
     "output_type": "stream",
     "text": [
      "+------+-------+-------------+---+------+------+----------+\n",
      "|emp_id|dept_id|     emp_name|age|gender|salary| hire_date|\n",
      "+------+-------+-------------+---+------+------+----------+\n",
      "|   002|    101|   Jane Smith| 25|Female| 45000|2016-02-15|\n",
      "|   014|    107|    Emily Lee| 26|Female| 46000|2019-01-01|\n",
      "|   010|    104|     Lisa Lee| 27|Female| 47000|2018-08-01|\n",
      "|   004|    102|    Alice Lee| 28|Female| 48000|2017-09-30|\n",
      "|   016|    107|  Kelly Zhang| 30|Female| 49000|2018-04-01|\n",
      "|   018|    104|    Nancy Liu| 29|Female| 50000|2017-06-01|\n",
      "|   001|    101|     John Doe| 30|  Male| 50000|2015-01-01|\n",
      "|   008|    102|     Kate Kim| 29|Female| 51000|2019-10-01|\n",
      "|   006|    103|    Jill Wong| 32|      | 52000|2018-07-01|\n",
      "|   020|    102|    Grace Kim| 32|Female| 53000|2018-11-01|\n",
      "|   012|    105|   Susan Chen| 31|Female| 54000|2017-02-15|\n",
      "|   003|    102|    Bob Brown| 35|  Male| 55000|2014-05-01|\n",
      "|   017|    105|  George Wang| 34|      | 57000|2016-03-15|\n",
      "|   009|    103|      Tom Tan| 33|  Male| 58000|2016-06-01|\n",
      "|   005|    103|    Jack Chan| 40|  Male| 60000|2013-04-01|\n",
      "|   019|    103|  Steven Chen| 36|  Male| 62000|2015-08-01|\n",
      "|   015|    106|  Michael Lee| 37|  Male| 63000|2014-09-30|\n",
      "|   011|    104|   David Park| 38|  Male| 65000|2015-11-01|\n",
      "|   007|    101|James Johnson| 42|  Male| 70000|2012-03-15|\n",
      "|   013|    106|    Brian Kim| 45|  Male| 75000|2011-07-01|\n",
      "+------+-------+-------------+---+------+------+----------+\n",
      "\n"
     ]
    }
   ],
   "source": [
    "emp_sorted_asc.show()"
   ]
  },
  {
   "cell_type": "code",
   "execution_count": 14,
   "id": "9d070a5b-eba7-4c72-8565-2b16490b728e",
   "metadata": {},
   "outputs": [],
   "source": [
    "# Aggregation\n",
    "# select dept_id, count(employee_id) as total_dept_count from emp_sorted group by dept_id \n",
    "from pyspark.sql.functions import count\n",
    "\n",
    "emp_count = emp_sorted_desc.groupBy(\"dept_id\").agg(count(\"emp_id\").alias(\"total_dept_count\"))"
   ]
  },
  {
   "cell_type": "code",
   "execution_count": 15,
   "id": "f7d15411-b2b0-4119-afa1-7e0589b6f246",
   "metadata": {},
   "outputs": [
    {
     "name": "stdout",
     "output_type": "stream",
     "text": [
      "+-------+----------------+\n",
      "|dept_id|total_dept_count|\n",
      "+-------+----------------+\n",
      "|    101|               3|\n",
      "|    102|               4|\n",
      "|    103|               4|\n",
      "|    104|               3|\n",
      "|    105|               2|\n",
      "|    107|               2|\n",
      "|    106|               2|\n",
      "+-------+----------------+\n",
      "\n"
     ]
    }
   ],
   "source": [
    "emp_count.show()"
   ]
  },
  {
   "cell_type": "code",
   "execution_count": 16,
   "id": "c49ede54-f4b6-48ca-ba2b-6475ce0653da",
   "metadata": {},
   "outputs": [],
   "source": [
    "# Aggregation\n",
    "# select dept_id, sum(salary) as total_dept_salary from emp_sorted group by dept_id \n",
    "from pyspark.sql.functions import sum\n",
    "\n",
    "emp_sum = emp_sorted_desc.groupBy(\"dept_id\").agg(sum(\"salary\").alias(\"total_dept_salary\"))"
   ]
  },
  {
   "cell_type": "code",
   "execution_count": 17,
   "id": "14db0523-d889-492e-bf52-c0b9ebd1f665",
   "metadata": {},
   "outputs": [
    {
     "name": "stdout",
     "output_type": "stream",
     "text": [
      "+-------+-----------------+\n",
      "|dept_id|total_dept_salary|\n",
      "+-------+-----------------+\n",
      "|    101|         165000.0|\n",
      "|    107|          95000.0|\n",
      "|    104|         162000.0|\n",
      "|    102|         207000.0|\n",
      "|    103|         232000.0|\n",
      "|    106|         138000.0|\n",
      "|    105|         111000.0|\n",
      "+-------+-----------------+\n",
      "\n"
     ]
    }
   ],
   "source": [
    "emp_sum.show()"
   ]
  },
  {
   "cell_type": "code",
   "execution_count": 18,
   "id": "964f7199-edf2-46a1-a781-d40a2f23ae05",
   "metadata": {},
   "outputs": [],
   "source": [
    "# Aggregation with having clause\n",
    "# select dept_id, avg(salary) as avg_dept_salary from emp_sorted  group by dept_id having avg(salary) > 50000\n",
    "from pyspark.sql.functions import avg\n",
    "\n",
    "emp_avg = emp_sorted_desc.groupBy(\"dept_id\").agg(avg(\"salary\").alias(\"avg_dept_salary\")).where(\"avg_dept_salary > 50000\")"
   ]
  },
  {
   "cell_type": "code",
   "execution_count": 19,
   "id": "88c1fc1b-d15c-4310-8596-972d19aa24d4",
   "metadata": {},
   "outputs": [
    {
     "name": "stdout",
     "output_type": "stream",
     "text": [
      "+-------+---------------+\n",
      "|dept_id|avg_dept_salary|\n",
      "+-------+---------------+\n",
      "|    101|        55000.0|\n",
      "|    104|        54000.0|\n",
      "|    102|        51750.0|\n",
      "|    103|        58000.0|\n",
      "|    106|        69000.0|\n",
      "|    105|        55500.0|\n",
      "+-------+---------------+\n",
      "\n"
     ]
    }
   ],
   "source": [
    "emp_avg.show()"
   ]
  },
  {
   "cell_type": "code",
   "execution_count": 20,
   "id": "5ad7aef8-fe80-45c9-a310-68f217b1eddd",
   "metadata": {},
   "outputs": [
    {
     "name": "stdout",
     "output_type": "stream",
     "text": [
      "root\n",
      " |-- emp_id: string (nullable = true)\n",
      " |-- dept_id: string (nullable = true)\n",
      " |-- emp_name: string (nullable = true)\n",
      " |-- age: string (nullable = true)\n",
      " |-- gender: string (nullable = true)\n",
      " |-- salary: string (nullable = true)\n",
      " |-- hire_date: string (nullable = true)\n",
      "\n",
      "root\n",
      " |-- emp_id: string (nullable = true)\n",
      " |-- salary: string (nullable = true)\n",
      " |-- dept_id: string (nullable = true)\n",
      " |-- emp_name: string (nullable = true)\n",
      " |-- hire_date: string (nullable = true)\n",
      " |-- gender: string (nullable = true)\n",
      " |-- age: string (nullable = true)\n",
      "\n"
     ]
    }
   ],
   "source": [
    "# Bonus TIP - unionByName\n",
    "# In case the column sequence is different\n",
    "emp_data_2_other = emp_data_2.select(\"emp_id\", \"salary\", \"dept_id\", \"emp_name\", \"hire_date\", \"gender\", \"age\")\n",
    "\n",
    "emp_data_1.printSchema()\n",
    "emp_data_2_other.printSchema()"
   ]
  },
  {
   "cell_type": "code",
   "execution_count": 24,
   "id": "3af7b248-a1ff-4002-8580-a8e792f52353",
   "metadata": {},
   "outputs": [],
   "source": [
    "emp_fixed = emp_data_1.unionByName(emp_data_2_other)  # schema of emp_data_1 will supersede schema of emp_data_2_other"
   ]
  },
  {
   "cell_type": "code",
   "execution_count": 25,
   "id": "cc054489-b704-4937-b2a5-3af57717a782",
   "metadata": {},
   "outputs": [
    {
     "name": "stdout",
     "output_type": "stream",
     "text": [
      "+------+-------+-------------+---+------+------+----------+\n",
      "|emp_id|dept_id|     emp_name|age|gender|salary| hire_date|\n",
      "+------+-------+-------------+---+------+------+----------+\n",
      "|   001|    101|     John Doe| 30|  Male| 50000|2015-01-01|\n",
      "|   002|    101|   Jane Smith| 25|Female| 45000|2016-02-15|\n",
      "|   003|    102|    Bob Brown| 35|  Male| 55000|2014-05-01|\n",
      "|   004|    102|    Alice Lee| 28|Female| 48000|2017-09-30|\n",
      "|   005|    103|    Jack Chan| 40|  Male| 60000|2013-04-01|\n",
      "|   006|    103|    Jill Wong| 32|      | 52000|2018-07-01|\n",
      "|   007|    101|James Johnson| 42|  Male| 70000|2012-03-15|\n",
      "|   008|    102|     Kate Kim| 29|Female| 51000|2019-10-01|\n",
      "|   009|    103|      Tom Tan| 33|  Male| 58000|2016-06-01|\n",
      "|   010|    104|     Lisa Lee| 27|Female| 47000|2018-08-01|\n",
      "|   011|    104|   David Park| 38|  Male| 65000|2015-11-01|\n",
      "|   012|    105|   Susan Chen| 31|Female| 54000|2017-02-15|\n",
      "|   013|    106|    Brian Kim| 45|  Male| 75000|2011-07-01|\n",
      "|   014|    107|    Emily Lee| 26|Female| 46000|2019-01-01|\n",
      "|   015|    106|  Michael Lee| 37|  Male| 63000|2014-09-30|\n",
      "|   016|    107|  Kelly Zhang| 30|Female| 49000|2018-04-01|\n",
      "|   017|    105|  George Wang| 34|      | 57000|2016-03-15|\n",
      "|   018|    104|    Nancy Liu| 29|Female| 50000|2017-06-01|\n",
      "|   019|    103|  Steven Chen| 36|  Male| 62000|2015-08-01|\n",
      "|   020|    102|    Grace Kim| 32|Female| 53000|2018-11-01|\n",
      "+------+-------+-------------+---+------+------+----------+\n",
      "\n"
     ]
    }
   ],
   "source": [
    "emp_fixed.show()"
   ]
  },
  {
   "cell_type": "code",
   "execution_count": 26,
   "id": "821941b1-8d67-45f7-a5a6-5525913281e7",
   "metadata": {},
   "outputs": [
    {
     "data": {
      "text/plain": [
       "20"
      ]
     },
     "execution_count": 26,
     "metadata": {},
     "output_type": "execute_result"
    }
   ],
   "source": [
    "emp.count()"
   ]
  },
  {
   "cell_type": "code",
   "execution_count": 27,
   "id": "24e9be31-1add-4ee8-be38-e9c829372c01",
   "metadata": {},
   "outputs": [],
   "source": [
    "spark.stop()"
   ]
  },
  {
   "cell_type": "code",
   "execution_count": null,
   "id": "0c0ce8a4-784f-4dc2-a0cd-0563823fa9de",
   "metadata": {},
   "outputs": [],
   "source": []
  }
 ],
 "metadata": {
  "kernelspec": {
   "display_name": "Python 3 (ipykernel)",
   "language": "python",
   "name": "python3"
  },
  "language_info": {
   "codemirror_mode": {
    "name": "ipython",
    "version": 3
   },
   "file_extension": ".py",
   "mimetype": "text/x-python",
   "name": "python",
   "nbconvert_exporter": "python",
   "pygments_lexer": "ipython3",
   "version": "3.11.4"
  }
 },
 "nbformat": 4,
 "nbformat_minor": 5
}
