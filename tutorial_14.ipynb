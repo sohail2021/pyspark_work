{
 "cells": [
  {
   "cell_type": "code",
   "execution_count": 1,
   "id": "25fac0a0-3c5b-42e5-8c90-9021f894c20a",
   "metadata": {},
   "outputs": [],
   "source": [
    "import findspark\n",
    "findspark.init()\n",
    "\n",
    "from pyspark.sql import SparkSession\n",
    "\n",
    "spark = (\n",
    "    SparkSession.builder.appName(\"Reading and Parsing JSON Files/Data\").getOrCreate()\n",
    ")"
   ]
  },
  {
   "cell_type": "code",
   "execution_count": 2,
   "id": "a051c73c-fc3e-4d0d-bfb5-dab80630bf1d",
   "metadata": {},
   "outputs": [],
   "source": [
    "# Read Single line JSON file\n",
    "\n",
    "df_single = spark.read.format(\"json\").load(\"data/input/order_singleline.json\")"
   ]
  },
  {
   "cell_type": "code",
   "execution_count": 3,
   "id": "c65f542a-6154-4f3c-bd8c-4baa426d2e7e",
   "metadata": {},
   "outputs": [
    {
     "name": "stdout",
     "output_type": "stream",
     "text": [
      "root\n",
      " |-- contact: array (nullable = true)\n",
      " |    |-- element: long (containsNull = true)\n",
      " |-- customer_id: string (nullable = true)\n",
      " |-- order_id: string (nullable = true)\n",
      " |-- order_line_items: array (nullable = true)\n",
      " |    |-- element: struct (containsNull = true)\n",
      " |    |    |-- amount: double (nullable = true)\n",
      " |    |    |-- item_id: string (nullable = true)\n",
      " |    |    |-- qty: long (nullable = true)\n",
      "\n"
     ]
    }
   ],
   "source": [
    "df_single.printSchema()"
   ]
  },
  {
   "cell_type": "code",
   "execution_count": 4,
   "id": "532837db-85f5-409f-a784-76fede790682",
   "metadata": {},
   "outputs": [
    {
     "name": "stdout",
     "output_type": "stream",
     "text": [
      "+--------------------+-----------+--------+--------------------+\n",
      "|             contact|customer_id|order_id|    order_line_items|\n",
      "+--------------------+-----------+--------+--------------------+\n",
      "|[9000010000, 9000...|       C001|    O101|[{102.45, I001, 6...|\n",
      "+--------------------+-----------+--------+--------------------+\n",
      "\n"
     ]
    }
   ],
   "source": [
    "df_single.show()"
   ]
  },
  {
   "cell_type": "code",
   "execution_count": 7,
   "id": "32628cf3-8994-46d4-a6f9-95075f71f901",
   "metadata": {},
   "outputs": [],
   "source": [
    "# Read Multi line JSON file\n",
    "\n",
    "df_multi = spark.read.format(\"json\").option(\"multiline\", True).load(\"data/input/order_multiline.json\") # for multiline --> option(\"multiline\", True)"
   ]
  },
  {
   "cell_type": "code",
   "execution_count": 8,
   "id": "0bd0ae8d-7c13-41a1-a07f-bd9987142a27",
   "metadata": {},
   "outputs": [
    {
     "name": "stdout",
     "output_type": "stream",
     "text": [
      "root\n",
      " |-- contact: array (nullable = true)\n",
      " |    |-- element: long (containsNull = true)\n",
      " |-- customer_id: string (nullable = true)\n",
      " |-- order_id: string (nullable = true)\n",
      " |-- order_line_items: array (nullable = true)\n",
      " |    |-- element: struct (containsNull = true)\n",
      " |    |    |-- amount: double (nullable = true)\n",
      " |    |    |-- item_id: string (nullable = true)\n",
      " |    |    |-- qty: long (nullable = true)\n",
      "\n"
     ]
    }
   ],
   "source": [
    "df_multi.printSchema()"
   ]
  },
  {
   "cell_type": "code",
   "execution_count": 9,
   "id": "4b50d219-da59-4065-b1aa-bf472b00de7b",
   "metadata": {},
   "outputs": [
    {
     "name": "stdout",
     "output_type": "stream",
     "text": [
      "+--------------------+-----------+--------+--------------------+\n",
      "|             contact|customer_id|order_id|    order_line_items|\n",
      "+--------------------+-----------+--------+--------------------+\n",
      "|[9000010000, 9000...|       C001|    O101|[{102.45, I001, 6...|\n",
      "+--------------------+-----------+--------+--------------------+\n",
      "\n"
     ]
    }
   ],
   "source": [
    "df_multi.show()"
   ]
  },
  {
   "cell_type": "code",
   "execution_count": 10,
   "id": "9e14bbfe-9a57-42b3-991a-7dc91c1b7283",
   "metadata": {},
   "outputs": [],
   "source": [
    "df = spark.read.format(\"text\").load(\"data/input/order_singleline.json\")"
   ]
  },
  {
   "cell_type": "code",
   "execution_count": 11,
   "id": "1b7f512a-1071-4938-b986-ebaa71e7ab55",
   "metadata": {},
   "outputs": [
    {
     "name": "stdout",
     "output_type": "stream",
     "text": [
      "root\n",
      " |-- value: string (nullable = true)\n",
      "\n"
     ]
    }
   ],
   "source": [
    "df.printSchema()"
   ]
  },
  {
   "cell_type": "code",
   "execution_count": 13,
   "id": "8dc565de-3209-40f9-8190-baa4eb8fc19f",
   "metadata": {},
   "outputs": [
    {
     "name": "stdout",
     "output_type": "stream",
     "text": [
      "+-----------------------------------------------------------------------------------------------------------------------------------------------------------------------------------+\n",
      "|value                                                                                                                                                                              |\n",
      "+-----------------------------------------------------------------------------------------------------------------------------------------------------------------------------------+\n",
      "|{\"order_id\":\"O101\",\"customer_id\":\"C001\",\"order_line_items\":[{\"item_id\":\"I001\",\"qty\":6,\"amount\":102.45},{\"item_id\":\"I003\",\"qty\":2,\"amount\":2.01}],\"contact\":[9000010000,9000010001]}|\n",
      "+-----------------------------------------------------------------------------------------------------------------------------------------------------------------------------------+\n",
      "\n"
     ]
    }
   ],
   "source": [
    "df.show(truncate=False)"
   ]
  },
  {
   "cell_type": "code",
   "execution_count": 14,
   "id": "0e233afe-0bb0-428c-bd70-9ac65f78e0eb",
   "metadata": {},
   "outputs": [],
   "source": [
    "# With Schema\n",
    "\n",
    "# define schema to view the selected columns defined under schema\n",
    "_schema = \"customer_id string, order_id string, contact array<long>\"\n",
    "\n",
    "df_schema = spark.read.format(\"json\").schema(_schema).load(\"data/input/order_singleline.json\")"
   ]
  },
  {
   "cell_type": "code",
   "execution_count": 15,
   "id": "81a80f61-0c8d-45f4-80d2-204c1fda52e6",
   "metadata": {},
   "outputs": [
    {
     "name": "stdout",
     "output_type": "stream",
     "text": [
      "+-----------+--------+--------------------+\n",
      "|customer_id|order_id|             contact|\n",
      "+-----------+--------+--------------------+\n",
      "|       C001|    O101|[9000010000, 9000...|\n",
      "+-----------+--------+--------------------+\n",
      "\n"
     ]
    }
   ],
   "source": [
    "df_schema.show()"
   ]
  },
  {
   "cell_type": "code",
   "execution_count": 19,
   "id": "f8db8a9e-33f4-4251-a038-64604a9093b3",
   "metadata": {},
   "outputs": [],
   "source": [
    "# specify a complex schema\n",
    "    \n",
    "# note that contact array was of type 'long', now it's changed to 'string'\n",
    "_schema = \"contact array<string>, customer_id string, order_id string, order_line_items array<struct<amount double, item_id string, qty long>>\"\n",
    "df_schema_new = spark.read.format(\"json\").schema(_schema).load(\"data/input/order_singleline.json\")"
   ]
  },
  {
   "cell_type": "code",
   "execution_count": 20,
   "id": "e5ac9788-b598-41e8-b2c7-d7dd322382ae",
   "metadata": {},
   "outputs": [
    {
     "name": "stdout",
     "output_type": "stream",
     "text": [
      "root\n",
      " |-- contact: array (nullable = true)\n",
      " |    |-- element: string (containsNull = true)\n",
      " |-- customer_id: string (nullable = true)\n",
      " |-- order_id: string (nullable = true)\n",
      " |-- order_line_items: array (nullable = true)\n",
      " |    |-- element: struct (containsNull = true)\n",
      " |    |    |-- amount: double (nullable = true)\n",
      " |    |    |-- item_id: string (nullable = true)\n",
      " |    |    |-- qty: long (nullable = true)\n",
      "\n"
     ]
    }
   ],
   "source": [
    "df_schema_new.printSchema()"
   ]
  },
  {
   "cell_type": "code",
   "execution_count": 21,
   "id": "a12ac10c-7117-4536-be93-656016ca87f2",
   "metadata": {},
   "outputs": [
    {
     "name": "stdout",
     "output_type": "stream",
     "text": [
      "+--------------------+-----------+--------+--------------------+\n",
      "|             contact|customer_id|order_id|    order_line_items|\n",
      "+--------------------+-----------+--------+--------------------+\n",
      "|[9000010000, 9000...|       C001|    O101|[{102.45, I001, 6...|\n",
      "+--------------------+-----------+--------+--------------------+\n",
      "\n"
     ]
    }
   ],
   "source": [
    "df_schema_new.show()"
   ]
  },
  {
   "cell_type": "code",
   "execution_count": 24,
   "id": "527ed5dd-51b1-40c9-8d57-0d8e2b39ae84",
   "metadata": {},
   "outputs": [],
   "source": [
    "# Function from_json to read from a column\n",
    "\n",
    "_schema = \"contact array<string>, customer_id string, order_id string, order_line_items array<struct<amount double, item_id string, qty long>>\"\n",
    "\n",
    "from pyspark.sql.functions import from_json\n",
    "\n",
    "# adding column 'parsed' with value of 'value' column of 'df' dataframe\n",
    "df_expanded = df.withColumn(\"parsed\", from_json(df.value, _schema))"
   ]
  },
  {
   "cell_type": "code",
   "execution_count": 25,
   "id": "8cb689b7-0fc5-45cf-b76b-5dd241da834f",
   "metadata": {},
   "outputs": [
    {
     "name": "stdout",
     "output_type": "stream",
     "text": [
      "root\n",
      " |-- value: string (nullable = true)\n",
      " |-- parsed: struct (nullable = true)\n",
      " |    |-- contact: array (nullable = true)\n",
      " |    |    |-- element: string (containsNull = true)\n",
      " |    |-- customer_id: string (nullable = true)\n",
      " |    |-- order_id: string (nullable = true)\n",
      " |    |-- order_line_items: array (nullable = true)\n",
      " |    |    |-- element: struct (containsNull = true)\n",
      " |    |    |    |-- amount: double (nullable = true)\n",
      " |    |    |    |-- item_id: string (nullable = true)\n",
      " |    |    |    |-- qty: long (nullable = true)\n",
      "\n"
     ]
    }
   ],
   "source": [
    "df_expanded.printSchema()"
   ]
  },
  {
   "cell_type": "code",
   "execution_count": 26,
   "id": "67da4887-9007-46ef-8fb7-cd24da4a67e5",
   "metadata": {},
   "outputs": [
    {
     "name": "stdout",
     "output_type": "stream",
     "text": [
      "+--------------------+--------------------+\n",
      "|               value|              parsed|\n",
      "+--------------------+--------------------+\n",
      "|{\"order_id\":\"O101...|{[9000010000, 900...|\n",
      "+--------------------+--------------------+\n",
      "\n"
     ]
    }
   ],
   "source": [
    "df_expanded.show()"
   ]
  },
  {
   "cell_type": "code",
   "execution_count": 27,
   "id": "11618b14-e758-4123-a6d5-12b03062b955",
   "metadata": {},
   "outputs": [],
   "source": [
    "# Function to_json to parse a JSON string\n",
    "from pyspark.sql.functions import to_json\n",
    "\n",
    "df_unparsed = df_expanded.withColumn(\"unparsed\", to_json(df_expanded.parsed))"
   ]
  },
  {
   "cell_type": "code",
   "execution_count": 28,
   "id": "901c1716-9fb4-4955-b235-664191fa1e10",
   "metadata": {},
   "outputs": [
    {
     "name": "stdout",
     "output_type": "stream",
     "text": [
      "root\n",
      " |-- value: string (nullable = true)\n",
      " |-- parsed: struct (nullable = true)\n",
      " |    |-- contact: array (nullable = true)\n",
      " |    |    |-- element: string (containsNull = true)\n",
      " |    |-- customer_id: string (nullable = true)\n",
      " |    |-- order_id: string (nullable = true)\n",
      " |    |-- order_line_items: array (nullable = true)\n",
      " |    |    |-- element: struct (containsNull = true)\n",
      " |    |    |    |-- amount: double (nullable = true)\n",
      " |    |    |    |-- item_id: string (nullable = true)\n",
      " |    |    |    |-- qty: long (nullable = true)\n",
      " |-- unparsed: string (nullable = true)\n",
      "\n"
     ]
    }
   ],
   "source": [
    "df_unparsed.printSchema()"
   ]
  },
  {
   "cell_type": "code",
   "execution_count": 29,
   "id": "e320d239-736b-4f47-a6f5-46dcdd68ad09",
   "metadata": {},
   "outputs": [
    {
     "name": "stdout",
     "output_type": "stream",
     "text": [
      "+---------------------------------------------------------------------------------------------------------------------------------------------------------------------------------------+\n",
      "|unparsed                                                                                                                                                                               |\n",
      "+---------------------------------------------------------------------------------------------------------------------------------------------------------------------------------------+\n",
      "|{\"contact\":[\"9000010000\",\"9000010001\"],\"customer_id\":\"C001\",\"order_id\":\"O101\",\"order_line_items\":[{\"amount\":102.45,\"item_id\":\"I001\",\"qty\":6},{\"amount\":2.01,\"item_id\":\"I003\",\"qty\":2}]}|\n",
      "+---------------------------------------------------------------------------------------------------------------------------------------------------------------------------------------+\n",
      "\n"
     ]
    }
   ],
   "source": [
    "df_unparsed.select(\"unparsed\").show(truncate=False)"
   ]
  },
  {
   "cell_type": "code",
   "execution_count": 36,
   "id": "89101ebc-8913-4737-bfe8-da599f292735",
   "metadata": {},
   "outputs": [],
   "source": [
    "# Get values from Parsed JSON\n",
    "\n",
    "# observe 'parsed.*', it means it wil select all the key under 'parsed' key\n",
    "df_1 = df_expanded.select(\"parsed.*\")"
   ]
  },
  {
   "cell_type": "code",
   "execution_count": 37,
   "id": "33e5a45e-3454-40f6-8832-2bd715fcdd1e",
   "metadata": {},
   "outputs": [
    {
     "name": "stdout",
     "output_type": "stream",
     "text": [
      "+--------------------+-----------+--------+--------------------+\n",
      "|             contact|customer_id|order_id|    order_line_items|\n",
      "+--------------------+-----------+--------+--------------------+\n",
      "|[9000010000, 9000...|       C001|    O101|[{102.45, I001, 6...|\n",
      "+--------------------+-----------+--------+--------------------+\n",
      "\n"
     ]
    }
   ],
   "source": [
    "df_1.show()"
   ]
  },
  {
   "cell_type": "code",
   "execution_count": 38,
   "id": "7250b02d-9e18-412a-9059-8fad2e87ab00",
   "metadata": {},
   "outputs": [],
   "source": [
    "from pyspark.sql.functions import explode\n",
    "\n",
    "df_2 = df_1.withColumn(\"expanded_line_items\", explode(\"order_line_items\"))"
   ]
  },
  {
   "cell_type": "code",
   "execution_count": 39,
   "id": "292d6847-e5d9-4b0c-8caf-3e00882c7a42",
   "metadata": {},
   "outputs": [
    {
     "name": "stdout",
     "output_type": "stream",
     "text": [
      "+--------------------+-----------+--------+--------------------+-------------------+\n",
      "|             contact|customer_id|order_id|    order_line_items|expanded_line_items|\n",
      "+--------------------+-----------+--------+--------------------+-------------------+\n",
      "|[9000010000, 9000...|       C001|    O101|[{102.45, I001, 6...|  {102.45, I001, 6}|\n",
      "|[9000010000, 9000...|       C001|    O101|[{102.45, I001, 6...|    {2.01, I003, 2}|\n",
      "+--------------------+-----------+--------+--------------------+-------------------+\n",
      "\n"
     ]
    }
   ],
   "source": [
    "df_2.show()"
   ]
  },
  {
   "cell_type": "code",
   "execution_count": 47,
   "id": "fb81d416-8c01-4800-bbb9-8b7333f56f8c",
   "metadata": {},
   "outputs": [],
   "source": [
    "# df_3 = df_2.select(\"contact\", \"customer_id\", \"order_id\", \"expanded_line_items.amount\") --> to select particular value under key 'expanded_line_items'\n",
    "# df_3 = df_2.select(\"contact\", \"customer_id\", \"order_id\", \"expanded_line_items.item_id\")\n",
    "# df_3 = df_2.select(\"contact\", \"customer_id\", \"order_id\", \"expanded_line_items.qty\")\n",
    "\n",
    "df_3 = df_2.select(\"contact\", \"customer_id\", \"order_id\", \"expanded_line_items.*\")"
   ]
  },
  {
   "cell_type": "code",
   "execution_count": 48,
   "id": "c01c6483-f2f2-4ed9-856a-79f140707daa",
   "metadata": {},
   "outputs": [
    {
     "name": "stdout",
     "output_type": "stream",
     "text": [
      "+--------------------+-----------+--------+------+-------+---+\n",
      "|             contact|customer_id|order_id|amount|item_id|qty|\n",
      "+--------------------+-----------+--------+------+-------+---+\n",
      "|[9000010000, 9000...|       C001|    O101|102.45|   I001|  6|\n",
      "|[9000010000, 9000...|       C001|    O101|  2.01|   I003|  2|\n",
      "+--------------------+-----------+--------+------+-------+---+\n",
      "\n"
     ]
    }
   ],
   "source": [
    "df_3.show()"
   ]
  },
  {
   "cell_type": "code",
   "execution_count": 49,
   "id": "81d74662-5992-48f7-a08c-ecf971071d1a",
   "metadata": {},
   "outputs": [],
   "source": [
    "# Explode Array fields\n",
    "# Explode function is one of the most frequently asked in interviews\n",
    "\n",
    "df_final = df_3.withColumn(\"contact_expanded\", explode(\"contact\"))"
   ]
  },
  {
   "cell_type": "code",
   "execution_count": 50,
   "id": "f1253187-439e-487c-95e2-8beac0922f9e",
   "metadata": {},
   "outputs": [
    {
     "name": "stdout",
     "output_type": "stream",
     "text": [
      "root\n",
      " |-- contact: array (nullable = true)\n",
      " |    |-- element: string (containsNull = true)\n",
      " |-- customer_id: string (nullable = true)\n",
      " |-- order_id: string (nullable = true)\n",
      " |-- amount: double (nullable = true)\n",
      " |-- item_id: string (nullable = true)\n",
      " |-- qty: long (nullable = true)\n",
      " |-- contact_expanded: string (nullable = true)\n",
      "\n"
     ]
    }
   ],
   "source": [
    "df_final.printSchema()"
   ]
  },
  {
   "cell_type": "code",
   "execution_count": 51,
   "id": "353173a0-c85b-40c8-ad42-d95938d4a3a2",
   "metadata": {},
   "outputs": [
    {
     "name": "stdout",
     "output_type": "stream",
     "text": [
      "+--------------------+-----------+--------+------+-------+---+----------------+\n",
      "|             contact|customer_id|order_id|amount|item_id|qty|contact_expanded|\n",
      "+--------------------+-----------+--------+------+-------+---+----------------+\n",
      "|[9000010000, 9000...|       C001|    O101|102.45|   I001|  6|      9000010000|\n",
      "|[9000010000, 9000...|       C001|    O101|102.45|   I001|  6|      9000010001|\n",
      "|[9000010000, 9000...|       C001|    O101|  2.01|   I003|  2|      9000010000|\n",
      "|[9000010000, 9000...|       C001|    O101|  2.01|   I003|  2|      9000010001|\n",
      "+--------------------+-----------+--------+------+-------+---+----------------+\n",
      "\n"
     ]
    }
   ],
   "source": [
    "df_final.show()"
   ]
  },
  {
   "cell_type": "code",
   "execution_count": 53,
   "id": "ef16fcda-8adf-456c-944f-17986f190f67",
   "metadata": {},
   "outputs": [
    {
     "name": "stdout",
     "output_type": "stream",
     "text": [
      "+-----------+--------+------+-------+---+----------------+\n",
      "|customer_id|order_id|amount|item_id|qty|contact_expanded|\n",
      "+-----------+--------+------+-------+---+----------------+\n",
      "|       C001|    O101|102.45|   I001|  6|      9000010000|\n",
      "|       C001|    O101|102.45|   I001|  6|      9000010001|\n",
      "|       C001|    O101|  2.01|   I003|  2|      9000010000|\n",
      "|       C001|    O101|  2.01|   I003|  2|      9000010001|\n",
      "+-----------+--------+------+-------+---+----------------+\n",
      "\n"
     ]
    }
   ],
   "source": [
    "df_final.drop(\"contact\").show()  # 'contact' col is exploded to 'contact_expanded', so dropped as values are same"
   ]
  },
  {
   "cell_type": "code",
   "execution_count": 54,
   "id": "68f74784-dc47-4c63-973b-21a3c2d1ab3d",
   "metadata": {},
   "outputs": [],
   "source": [
    "# key concepts\n",
    "# expand the json\n",
    "# flatten the json"
   ]
  },
  {
   "cell_type": "code",
   "execution_count": 55,
   "id": "7cece9d5-4783-4f13-8465-aaf2b4b9d147",
   "metadata": {},
   "outputs": [],
   "source": [
    "spark.stop()"
   ]
  },
  {
   "cell_type": "code",
   "execution_count": null,
   "id": "c0403c21-9b29-4a43-b73f-ece534e465a2",
   "metadata": {},
   "outputs": [],
   "source": []
  }
 ],
 "metadata": {
  "kernelspec": {
   "display_name": "Python 3 (ipykernel)",
   "language": "python",
   "name": "python3"
  },
  "language_info": {
   "codemirror_mode": {
    "name": "ipython",
    "version": 3
   },
   "file_extension": ".py",
   "mimetype": "text/x-python",
   "name": "python",
   "nbconvert_exporter": "python",
   "pygments_lexer": "ipython3",
   "version": "3.11.4"
  }
 },
 "nbformat": 4,
 "nbformat_minor": 5
}
